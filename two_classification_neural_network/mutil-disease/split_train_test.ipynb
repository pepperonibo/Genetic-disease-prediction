{
 "cells": [
  {
   "cell_type": "code",
   "execution_count": 32,
   "metadata": {},
   "outputs": [],
   "source": [
    "import shutil\n",
    "import random\n",
    "import os"
   ]
  },
  {
   "cell_type": "code",
   "execution_count": 33,
   "metadata": {},
   "outputs": [],
   "source": [
    "NORMAL_IMG_DIR = '../../normalized_dataset'\n",
    "OUTPUT_DIR = './dataset'"
   ]
  },
  {
   "cell_type": "code",
   "execution_count": 34,
   "metadata": {},
   "outputs": [],
   "source": [
    "if not os.path.exists(OUTPUT_DIR):\n",
    "    os.makedirs(os.path.join(OUTPUT_DIR, 'train'))\n",
    "    os.makedirs(os.path.join(OUTPUT_DIR, 'test'))\n",
    "else:\n",
    "    if not os.path.exists(os.path.join(OUTPUT_DIR, 'train')):\n",
    "        os.makedirs(os.path.join(OUTPUT_DIR, 'train'))\n",
    "    if not os.path.exists(os.path.join(OUTPUT_DIR, 'test')):\n",
    "        os.makedirs(os.path.join(OUTPUT_DIR, 'test'))"
   ]
  },
  {
   "cell_type": "code",
   "execution_count": 35,
   "metadata": {},
   "outputs": [],
   "source": [
    "TEST_SPLIT = 0.1"
   ]
  },
  {
   "cell_type": "code",
   "execution_count": 36,
   "metadata": {},
   "outputs": [],
   "source": [
    "class_list = os.listdir(NORMAL_IMG_DIR)"
   ]
  },
  {
   "cell_type": "code",
   "execution_count": 37,
   "metadata": {},
   "outputs": [],
   "source": [
    "for disease_class in class_list:\n",
    "    img_list = os.listdir(os.path.join(NORMAL_IMG_DIR, disease_class))\n",
    "    os.makedirs(os.path.join(OUTPUT_DIR, 'train', disease_class))\n",
    "    os.makedirs(os.path.join(OUTPUT_DIR, 'test', disease_class))\n",
    "    random.shuffle(img_list)\n",
    "    list_len = len(img_list)\n",
    "    list_len = min(335, list_len)\n",
    "    test_list = img_list[:int(TEST_SPLIT*list_len)]\n",
    "    train_list = img_list[int(TEST_SPLIT*list_len): list_len]\n",
    "    for img in test_list:\n",
    "        shutil.copy(os.path.join(NORMAL_IMG_DIR, disease_class, img), os.path.join(OUTPUT_DIR, 'test', disease_class))\n",
    "    for img in train_list:\n",
    "        shutil.copy(os.path.join(NORMAL_IMG_DIR, disease_class, img), os.path.join(OUTPUT_DIR, 'train', disease_class))"
   ]
  },
  {
   "cell_type": "code",
   "execution_count": null,
   "metadata": {},
   "outputs": [],
   "source": []
  },
  {
   "cell_type": "code",
   "execution_count": null,
   "metadata": {},
   "outputs": [],
   "source": []
  }
 ],
 "metadata": {
  "kernelspec": {
   "display_name": "Python 3",
   "language": "python",
   "name": "python3"
  },
  "language_info": {
   "codemirror_mode": {
    "name": "ipython",
    "version": 3
   },
   "file_extension": ".py",
   "mimetype": "text/x-python",
   "name": "python",
   "nbconvert_exporter": "python",
   "pygments_lexer": "ipython3",
   "version": "3.8.3"
  }
 },
 "nbformat": 4,
 "nbformat_minor": 4
}
