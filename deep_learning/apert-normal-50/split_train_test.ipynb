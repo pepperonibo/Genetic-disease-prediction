{
 "cells": [
  {
   "cell_type": "code",
   "execution_count": 8,
   "metadata": {},
   "outputs": [],
   "source": [
    "import shutil\n",
    "import random\n",
    "import os"
   ]
  },
  {
   "cell_type": "code",
   "execution_count": 9,
   "metadata": {},
   "outputs": [],
   "source": [
    "NORMAL_IMG_DIR = '../../normalized_dataset'\n",
    "OUTPUT_DIR = './dataset'"
   ]
  },
  {
   "cell_type": "code",
   "execution_count": 10,
   "metadata": {},
   "outputs": [],
   "source": [
    "if not os.path.exists(OUTPUT_DIR):\n",
    "    os.makedirs(os.path.join(OUTPUT_DIR, 'train'))\n",
    "    os.makedirs(os.path.join(OUTPUT_DIR, 'test'))\n",
    "else:\n",
    "    if not os.path.exists(os.path.join(OUTPUT_DIR, 'train')):\n",
    "        os.makedirs(os.path.join(OUTPUT_DIR, 'train'))\n",
    "    if not os.path.exists(os.path.join(OUTPUT_DIR, 'test')):\n",
    "        os.makedirs(os.path.join(OUTPUT_DIR, 'test'))"
   ]
  },
  {
   "cell_type": "code",
   "execution_count": 11,
   "metadata": {},
   "outputs": [],
   "source": [
    "TEST_SPLIT = 0.2"
   ]
  },
  {
   "cell_type": "code",
   "execution_count": 12,
   "metadata": {},
   "outputs": [],
   "source": [
    "class_list = ['Apert', 'normal']"
   ]
  },
  {
   "cell_type": "code",
   "execution_count": 13,
   "metadata": {},
   "outputs": [],
   "source": [
    "pos_num = 50"
   ]
  },
  {
   "cell_type": "code",
   "execution_count": 14,
   "metadata": {},
   "outputs": [],
   "source": [
    "for disease_class in class_list:\n",
    "    img_list = os.listdir(os.path.join(NORMAL_IMG_DIR, disease_class))\n",
    "    os.makedirs(os.path.join(OUTPUT_DIR, 'train', disease_class))\n",
    "    os.makedirs(os.path.join(OUTPUT_DIR, 'test', disease_class))\n",
    "    random.shuffle(img_list)\n",
    "    test_list = img_list[:int(TEST_SPLIT*pos_num)]\n",
    "    train_list = img_list[int(TEST_SPLIT*pos_num): pos_num]\n",
    "    for img in test_list:\n",
    "        shutil.copy(os.path.join(NORMAL_IMG_DIR, disease_class, img), os.path.join(OUTPUT_DIR, 'test', disease_class))\n",
    "    for img in train_list:\n",
    "        shutil.copy(os.path.join(NORMAL_IMG_DIR, disease_class, img), os.path.join(OUTPUT_DIR, 'train', disease_class))"
   ]
  },
  {
   "cell_type": "code",
   "execution_count": null,
   "metadata": {},
   "outputs": [],
   "source": []
  }
 ],
 "metadata": {
  "kernelspec": {
   "display_name": "Python 3",
   "language": "python",
   "name": "python3"
  },
  "language_info": {
   "codemirror_mode": {
    "name": "ipython",
    "version": 3
   },
   "file_extension": ".py",
   "mimetype": "text/x-python",
   "name": "python",
   "nbconvert_exporter": "python",
   "pygments_lexer": "ipython3",
   "version": "3.8.3"
  }
 },
 "nbformat": 4,
 "nbformat_minor": 4
}
