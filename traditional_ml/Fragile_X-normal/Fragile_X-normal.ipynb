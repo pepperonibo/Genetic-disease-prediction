{
 "cells": [
  {
   "cell_type": "markdown",
   "metadata": {},
   "source": [
    "# 脆性X综合征与正常人脸二分类非端到端模型"
   ]
  },
  {
   "cell_type": "code",
   "execution_count": 2,
   "metadata": {},
   "outputs": [],
   "source": [
    "from deepface import DeepFace\n",
    "import os\n",
    "from sklearn.model_selection import train_test_split, cross_val_score\n",
    "from sklearn.decomposition import PCA\n",
    "from sklearn.svm import SVC\n",
    "import math\n",
    "import joblib\n",
    "from sklearn.metrics import classification_report"
   ]
  },
  {
   "cell_type": "markdown",
   "metadata": {},
   "source": [
    "设置数据源路径以及保存模型位置"
   ]
  },
  {
   "cell_type": "code",
   "execution_count": 3,
   "metadata": {},
   "outputs": [],
   "source": [
    "NORMALIZED_IMG_DIR = './dataset/'\n",
    "clf_model_name = 'Fragile_X-normal.pkl'\n",
    "pca_model_name = 'Fragile_X-normal_pca.pkl'"
   ]
  },
  {
   "cell_type": "markdown",
   "metadata": {},
   "source": [
    "读取所有遗传病类型"
   ]
  },
  {
   "cell_type": "code",
   "execution_count": 4,
   "metadata": {},
   "outputs": [],
   "source": [
    "class_list = os.listdir(NORMALIZED_IMG_DIR)"
   ]
  },
  {
   "cell_type": "markdown",
   "metadata": {},
   "source": [
    "引入FaceNet"
   ]
  },
  {
   "cell_type": "code",
   "execution_count": 5,
   "metadata": {},
   "outputs": [],
   "source": [
    "model = DeepFace.build_model('Facenet')"
   ]
  },
  {
   "cell_type": "markdown",
   "metadata": {},
   "source": [
    "使用FaceNet获取人脸embedding特征向量"
   ]
  },
  {
   "cell_type": "code",
   "execution_count": 6,
   "metadata": {},
   "outputs": [],
   "source": [
    "embeddings = {}"
   ]
  },
  {
   "cell_type": "code",
   "execution_count": 7,
   "metadata": {},
   "outputs": [
    {
     "name": "stdout",
     "output_type": "stream",
     "text": [
      "getting 100.jpg's embedding\n",
      "WARNING:tensorflow:5 out of the last 8 calls to <function Model.make_predict_function.<locals>.predict_function at 0x000001C181963CA0> triggered tf.function retracing. Tracing is expensive and the excessive number of tracings could be due to (1) creating @tf.function repeatedly in a loop, (2) passing tensors with different shapes, (3) passing Python objects instead of tensors. For (1), please define your @tf.function outside of the loop. For (2), @tf.function has experimental_relax_shapes=True option that relaxes argument shapes that can avoid unnecessary retracing. For (3), please refer to https://www.tensorflow.org/tutorials/customization/performance#python_or_tensor_args and https://www.tensorflow.org/api_docs/python/tf/function for  more details.\n",
      "WARNING:tensorflow:6 out of the last 9 calls to <function Model.make_predict_function.<locals>.predict_function at 0x000001C181B448B0> triggered tf.function retracing. Tracing is expensive and the excessive number of tracings could be due to (1) creating @tf.function repeatedly in a loop, (2) passing tensors with different shapes, (3) passing Python objects instead of tensors. For (1), please define your @tf.function outside of the loop. For (2), @tf.function has experimental_relax_shapes=True option that relaxes argument shapes that can avoid unnecessary retracing. For (3), please refer to https://www.tensorflow.org/tutorials/customization/performance#python_or_tensor_args and https://www.tensorflow.org/api_docs/python/tf/function for  more details.\n",
      "getting 101.jpg's embedding\n",
      "getting 102.jpg's embedding\n",
      "getting 107.jpg's embedding\n",
      "getting 111.jpg's embedding\n",
      "getting 115.jpg's embedding\n",
      "getting 116.jpg's embedding\n",
      "getting 117.jpg's embedding\n",
      "getting 118.jpg's embedding\n",
      "getting 119.jpg's embedding\n",
      "getting 122.jpg's embedding\n",
      "getting 124.jpg's embedding\n",
      "getting 128.jpg's embedding\n",
      "getting 129.jpg's embedding\n",
      "getting 130.jpg's embedding\n",
      "getting 132.jpg's embedding\n",
      "getting 133.jpg's embedding\n",
      "getting 134.jpg's embedding\n",
      "getting 135.jpg's embedding\n",
      "getting 136.jpg's embedding\n",
      "getting 137.jpg's embedding\n",
      "getting 138.jpg's embedding\n",
      "getting 139.jpg's embedding\n",
      "getting 14.jpg's embedding\n",
      "getting 140.jpg's embedding\n",
      "getting 141.jpg's embedding\n",
      "getting 142.jpg's embedding\n",
      "getting 143.jpg's embedding\n",
      "getting 144.jpg's embedding\n",
      "getting 145.jpg's embedding\n",
      "getting 146.jpg's embedding\n",
      "getting 147.jpg's embedding\n",
      "getting 15.jpg's embedding\n",
      "getting 157.jpg's embedding\n",
      "getting 25.jpg's embedding\n",
      "getting 26.jpg's embedding\n",
      "getting 29.jpg's embedding\n",
      "getting 31.jpg's embedding\n",
      "getting 32.jpg's embedding\n",
      "getting 33.jpg's embedding\n",
      "getting 35.jpg's embedding\n",
      "getting 36.jpg's embedding\n",
      "getting 39.jpg's embedding\n",
      "getting 40.jpg's embedding\n",
      "getting 41.jpg's embedding\n",
      "getting 44.jpg's embedding\n",
      "getting 45.jpg's embedding\n",
      "getting 46.jpg's embedding\n",
      "getting 48.jpg's embedding\n",
      "getting 49.jpg's embedding\n",
      "getting 52.jpg's embedding\n",
      "getting 53.jpg's embedding\n",
      "getting 54.jpg's embedding\n",
      "getting 56.jpg's embedding\n",
      "getting 57.jpg's embedding\n",
      "getting 59.jpg's embedding\n",
      "getting 60.jpg's embedding\n",
      "getting 61.jpg's embedding\n",
      "getting 62.jpg's embedding\n",
      "getting 63.jpg's embedding\n",
      "getting 64.jpg's embedding\n",
      "getting 65.jpg's embedding\n",
      "getting 66.jpg's embedding\n",
      "getting 67.jpg's embedding\n",
      "getting 68.jpg's embedding\n",
      "getting 69.jpg's embedding\n",
      "getting 70.jpg's embedding\n",
      "getting 71.jpg's embedding\n",
      "getting 72.jpg's embedding\n",
      "getting 73.jpg's embedding\n",
      "getting 74.jpg's embedding\n",
      "getting 75.jpg's embedding\n",
      "getting 76.jpg's embedding\n",
      "getting 8.jpg's embedding\n",
      "getting 80.jpg's embedding\n",
      "getting 81.jpg's embedding\n",
      "getting 82.jpg's embedding\n",
      "getting 83.jpg's embedding\n",
      "getting 84.jpg's embedding\n",
      "getting 86.jpg's embedding\n",
      "getting 88.jpg's embedding\n",
      "getting 89.jpg's embedding\n",
      "getting 90.jpg's embedding\n",
      "getting 91.jpg's embedding\n",
      "getting 93.jpg's embedding\n",
      "getting 94.jpg's embedding\n",
      "getting 95.jpg's embedding\n",
      "getting 96.jpg's embedding\n",
      "getting 99.jpg's embedding\n",
      "getting 1014.png's embedding\n",
      "getting 1018.png's embedding\n",
      "getting 103.png's embedding\n",
      "getting 1037.png's embedding\n",
      "getting 1039.png's embedding\n",
      "getting 1140.png's embedding\n",
      "getting 1209.png's embedding\n",
      "getting 1233.png's embedding\n",
      "getting 1251.png's embedding\n",
      "getting 1283.png's embedding\n",
      "getting 1321.png's embedding\n",
      "getting 1411.png's embedding\n",
      "getting 1415.png's embedding\n",
      "getting 1418.png's embedding\n",
      "getting 1478.png's embedding\n",
      "getting 1490.png's embedding\n",
      "getting 1491.png's embedding\n",
      "getting 1496.png's embedding\n",
      "getting 1551.png's embedding\n",
      "getting 1636.png's embedding\n",
      "getting 168.png's embedding\n",
      "getting 1761.png's embedding\n",
      "getting 1764.png's embedding\n",
      "getting 1824.png's embedding\n",
      "getting 1929.png's embedding\n",
      "getting 1937.png's embedding\n",
      "getting 1970.png's embedding\n",
      "getting 1987.png's embedding\n",
      "getting 2046.png's embedding\n",
      "getting 2058.png's embedding\n",
      "getting 2140.png's embedding\n",
      "getting 229.png's embedding\n",
      "getting 2311.png's embedding\n",
      "getting 2335.png's embedding\n",
      "getting 2439.png's embedding\n",
      "getting 2490.png's embedding\n",
      "getting 2558.png's embedding\n",
      "getting 2612.png's embedding\n",
      "getting 2743.png's embedding\n",
      "getting 2765.png's embedding\n",
      "getting 2865.png's embedding\n",
      "getting 2892.png's embedding\n",
      "getting 2896.png's embedding\n",
      "getting 2906.png's embedding\n",
      "getting 301.png's embedding\n",
      "getting 3013.png's embedding\n",
      "getting 3031.png's embedding\n",
      "getting 3090.png's embedding\n",
      "getting 328.png's embedding\n",
      "getting 3280.png's embedding\n",
      "getting 3315.png's embedding\n",
      "getting 3338.png's embedding\n",
      "getting 3410.png's embedding\n",
      "getting 3448.png's embedding\n",
      "getting 3477.png's embedding\n",
      "getting 3484.png's embedding\n",
      "getting 3593.png's embedding\n",
      "getting 3759.png's embedding\n",
      "getting 3760.png's embedding\n",
      "getting 3899.png's embedding\n",
      "getting 390.png's embedding\n",
      "getting 3921.png's embedding\n",
      "getting 3933.png's embedding\n",
      "getting 4040.png's embedding\n",
      "getting 4054.png's embedding\n",
      "getting 4231.png's embedding\n",
      "getting 4233.png's embedding\n",
      "getting 4267.png's embedding\n",
      "getting 4277.png's embedding\n",
      "getting 4286.png's embedding\n",
      "getting 4290.png's embedding\n",
      "getting 4304.png's embedding\n",
      "getting 4359.png's embedding\n",
      "getting 4429.png's embedding\n",
      "getting 4485.png's embedding\n",
      "getting 4522.png's embedding\n",
      "getting 4546.png's embedding\n",
      "getting 4547.png's embedding\n",
      "getting 4592.png's embedding\n",
      "getting 4619.png's embedding\n",
      "getting 4749.png's embedding\n",
      "getting 4817.png's embedding\n",
      "getting 4830.png's embedding\n",
      "getting 4834.png's embedding\n",
      "getting 4855.png's embedding\n",
      "getting 4886.png's embedding\n",
      "getting 4969.png's embedding\n",
      "getting 5030.png's embedding\n",
      "getting 5040.png's embedding\n"
     ]
    }
   ],
   "source": [
    "for class_name in class_list:\n",
    "#     embeddings[class_name] = DeepFace.represent(os.listdir(os.path.join(NORMALIZED_IMG_DIR, class_name)), model_name = 'Facenet', enforce_detection=False)\n",
    "    embeddings[class_name] = []\n",
    "    for file_name in os.listdir(os.path.join(NORMALIZED_IMG_DIR, class_name)):\n",
    "        print(f\"getting {file_name}'s embedding\")\n",
    "        embeddings[class_name].append(\n",
    "            DeepFace.represent(os.path.join(NORMALIZED_IMG_DIR, class_name, file_name), model_name = 'Facenet', model=model, enforce_detection=False)\n",
    "        )"
   ]
  },
  {
   "cell_type": "code",
   "execution_count": 8,
   "metadata": {},
   "outputs": [],
   "source": [
    "X = []\n",
    "Y = []\n",
    "for key, value in embeddings.items():\n",
    "    X = X + value\n",
    "    Y = Y + [key] * len(value)"
   ]
  },
  {
   "cell_type": "code",
   "execution_count": 10,
   "metadata": {},
   "outputs": [],
   "source": [
    "Xtrain, Xtest, Ytrain, Ytest = train_test_split(X, Y, test_size=0.2)"
   ]
  },
  {
   "cell_type": "markdown",
   "metadata": {},
   "source": [
    "网格搜索"
   ]
  },
  {
   "cell_type": "code",
   "execution_count": 11,
   "metadata": {},
   "outputs": [
    {
     "name": "stdout",
     "output_type": "stream",
     "text": [
      "searching pca dim in range 1 t4o 89\n",
      "The accuracy under kernel linear and pca dimension 1 is 0.647279\n",
      "The accuracy under kernel linear and pca dimension 2 is 0.647279\n",
      "The accuracy under kernel poly and pca dimension 2 is 0.704082\n",
      "The accuracy under kernel rbf and pca dimension 2 is 0.711224\n",
      "The accuracy under kernel linear and pca dimension 3 is 0.739116\n",
      "The accuracy under kernel poly and pca dimension 3 is 0.781633\n",
      "The accuracy under kernel poly and pca dimension 4 is 0.788435\n",
      "The accuracy under kernel rbf and pca dimension 12 is 0.802381\n",
      "The accuracy under kernel rbf and pca dimension 13 is 0.802381\n",
      "The accuracy under kernel rbf and pca dimension 14 is 0.809524\n",
      "The accuracy under kernel rbf and pca dimension 21 is 0.816667\n"
     ]
    }
   ],
   "source": [
    "best_score = -1\n",
    "best_kernel = ''\n",
    "best_pca_dim = -1\n",
    "min_dim = math.inf\n",
    "for class_name in class_list:\n",
    "    min_dim = min(min_dim, len(os.listdir(os.path.join(NORMALIZED_IMG_DIR, class_name))))\n",
    "min_dim = min(min_dim, 129)\n",
    "print(f'searching pca dim in range 1 t4o {min_dim}')\n",
    "for n_dim in range(1, min_dim):\n",
    "    pca = PCA(n_components=n_dim)\n",
    "    pca = pca.fit(X)\n",
    "    X_dr = pca.transform(Xtrain)\n",
    "    kernels = [\"linear\",\"poly\",\"rbf\",\"sigmoid\"]\n",
    "    for kernel in kernels:\n",
    "        clf = SVC(kernel=kernel)\n",
    "        score = cross_val_score(clf, X_dr, Ytrain, cv=7, scoring='accuracy').mean()\n",
    "        if score >= best_score:\n",
    "            best_score = score\n",
    "            best_pca_dim = n_dim\n",
    "            best_kernel = kernel\n",
    "            print(\"The accuracy under kernel %s and pca dimension %d is %f\" % (kernel, n_dim, score))"
   ]
  },
  {
   "cell_type": "code",
   "execution_count": 12,
   "metadata": {},
   "outputs": [
    {
     "data": {
      "text/plain": [
       "['Fragile_X-normal_pca.pkl']"
      ]
     },
     "execution_count": 12,
     "metadata": {},
     "output_type": "execute_result"
    }
   ],
   "source": [
    "pca = PCA(n_components=best_pca_dim)\n",
    "pca = pca.fit(X)\n",
    "X_dr = pca.transform(X)\n",
    "joblib.dump(pca, pca_model_name)"
   ]
  },
  {
   "cell_type": "code",
   "execution_count": 13,
   "metadata": {},
   "outputs": [
    {
     "name": "stdout",
     "output_type": "stream",
     "text": [
      "              precision    recall  f1-score   support\n",
      "\n",
      "   Fragile_X       0.79      0.95      0.86        20\n",
      "      normal       0.92      0.69      0.79        16\n",
      "\n",
      "    accuracy                           0.83        36\n",
      "   macro avg       0.85      0.82      0.82        36\n",
      "weighted avg       0.85      0.83      0.83        36\n",
      "\n"
     ]
    }
   ],
   "source": [
    "clf = SVC(kernel=best_kernel, probability = True)\n",
    "X_train_dr = pca.transform(Xtrain)\n",
    "X_test_dr = pca.transform(Xtest)\n",
    "clf.fit(X_train_dr, Ytrain)\n",
    "Y_test_predict = clf.predict(X_test_dr)\n",
    "target_names = class_list\n",
    "print(classification_report(Ytest, Y_test_predict, target_names=target_names))"
   ]
  },
  {
   "cell_type": "code",
   "execution_count": 14,
   "metadata": {},
   "outputs": [
    {
     "data": {
      "text/plain": [
       "['Fragile_X-normal.pkl']"
      ]
     },
     "execution_count": 14,
     "metadata": {},
     "output_type": "execute_result"
    }
   ],
   "source": [
    "joblib.dump(clf, clf_model_name)"
   ]
  },
  {
   "cell_type": "code",
   "execution_count": null,
   "metadata": {},
   "outputs": [],
   "source": []
  }
 ],
 "metadata": {
  "kernelspec": {
   "display_name": "Python 3",
   "language": "python",
   "name": "python3"
  },
  "language_info": {
   "codemirror_mode": {
    "name": "ipython",
    "version": 3
   },
   "file_extension": ".py",
   "mimetype": "text/x-python",
   "name": "python",
   "nbconvert_exporter": "python",
   "pygments_lexer": "ipython3",
   "version": "3.8.3"
  }
 },
 "nbformat": 4,
 "nbformat_minor": 4
}
