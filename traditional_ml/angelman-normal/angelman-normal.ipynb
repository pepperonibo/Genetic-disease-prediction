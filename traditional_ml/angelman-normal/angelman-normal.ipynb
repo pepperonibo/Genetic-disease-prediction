{
 "cells": [
  {
   "cell_type": "markdown",
   "metadata": {},
   "source": [
    "# 天使人综合征与正常人脸二分类非端到端模型"
   ]
  },
  {
   "cell_type": "code",
   "execution_count": 94,
   "metadata": {},
   "outputs": [],
   "source": [
    "from deepface import DeepFace\n",
    "import os\n",
    "from sklearn.model_selection import train_test_split, cross_val_score\n",
    "from sklearn.decomposition import PCA\n",
    "from sklearn.svm import SVC\n",
    "import math\n",
    "import joblib\n",
    "from sklearn.metrics import classification_report"
   ]
  },
  {
   "cell_type": "markdown",
   "metadata": {},
   "source": [
    "设置数据源路径以及保存模型位置"
   ]
  },
  {
   "cell_type": "code",
   "execution_count": 95,
   "metadata": {},
   "outputs": [],
   "source": [
    "NORMALIZED_IMG_DIR = './dataset/'\n",
    "clf_model_name = 'angelman-normal.pkl'\n",
    "pca_model_name = 'angelman-normal_pca.pkl'"
   ]
  },
  {
   "cell_type": "markdown",
   "metadata": {},
   "source": [
    "读取所有遗传病类型"
   ]
  },
  {
   "cell_type": "code",
   "execution_count": 96,
   "metadata": {},
   "outputs": [],
   "source": [
    "class_list = os.listdir(NORMALIZED_IMG_DIR)"
   ]
  },
  {
   "cell_type": "markdown",
   "metadata": {},
   "source": [
    "引入FaceNet"
   ]
  },
  {
   "cell_type": "code",
   "execution_count": 97,
   "metadata": {},
   "outputs": [],
   "source": [
    "model = DeepFace.build_model('Facenet')"
   ]
  },
  {
   "cell_type": "markdown",
   "metadata": {},
   "source": [
    "使用FaceNet获取人脸embedding特征向量"
   ]
  },
  {
   "cell_type": "code",
   "execution_count": 98,
   "metadata": {},
   "outputs": [],
   "source": [
    "embeddings = {}"
   ]
  },
  {
   "cell_type": "code",
   "execution_count": 99,
   "metadata": {},
   "outputs": [
    {
     "name": "stdout",
     "output_type": "stream",
     "text": [
      "getting 0.jpg's embedding\n",
      "getting 1.jpg's embedding\n",
      "getting 10.jpg's embedding\n",
      "getting 11.jpg's embedding\n",
      "getting 12.jpg's embedding\n",
      "getting 13.jpg's embedding\n",
      "getting 14.jpg's embedding\n",
      "getting 15.jpg's embedding\n",
      "getting 16.jpg's embedding\n",
      "getting 17.jpg's embedding\n",
      "getting 18.jpg's embedding\n",
      "getting 19.jpg's embedding\n",
      "getting 2.jpg's embedding\n",
      "getting 20.jpg's embedding\n",
      "getting 21.jpg's embedding\n",
      "getting 23.jpg's embedding\n",
      "getting 3.jpg's embedding\n",
      "getting 4.jpg's embedding\n",
      "getting 5.jpg's embedding\n",
      "getting 6.jpg's embedding\n",
      "getting 7.jpg's embedding\n",
      "getting 8.jpg's embedding\n",
      "getting 9.jpg's embedding\n",
      "getting 1491.png's embedding\n",
      "getting 1690.png's embedding\n",
      "getting 1739.png's embedding\n",
      "getting 1742.png's embedding\n",
      "getting 1824.png's embedding\n",
      "getting 1924.png's embedding\n",
      "getting 2152.png's embedding\n",
      "getting 2383.png's embedding\n",
      "getting 2662.png's embedding\n",
      "getting 2719.png's embedding\n",
      "getting 2784.png's embedding\n",
      "getting 2827.png's embedding\n",
      "getting 2967.png's embedding\n",
      "getting 3624.png's embedding\n",
      "getting 3686.png's embedding\n",
      "getting 4117.png's embedding\n",
      "getting 4256.png's embedding\n",
      "getting 4304.png's embedding\n",
      "getting 4469.png's embedding\n",
      "getting 4575.png's embedding\n",
      "getting 459.png's embedding\n",
      "getting 4834.png's embedding\n",
      "getting 4945.png's embedding\n"
     ]
    }
   ],
   "source": [
    "for class_name in class_list:\n",
    "#     embeddings[class_name] = DeepFace.represent(os.listdir(os.path.join(NORMALIZED_IMG_DIR, class_name)), model_name = 'Facenet', enforce_detection=False)\n",
    "    embeddings[class_name] = []\n",
    "    for file_name in os.listdir(os.path.join(NORMALIZED_IMG_DIR, class_name)):\n",
    "        print(f\"getting {file_name}'s embedding\")\n",
    "        embeddings[class_name].append(\n",
    "            DeepFace.represent(os.path.join(NORMALIZED_IMG_DIR, class_name, file_name), model_name = 'Facenet', model=model, enforce_detection=False)\n",
    "        )"
   ]
  },
  {
   "cell_type": "code",
   "execution_count": 100,
   "metadata": {},
   "outputs": [],
   "source": [
    "X = []\n",
    "Y = []\n",
    "for key, value in embeddings.items():\n",
    "    X = X + value\n",
    "    Y = Y + [key] * len(value)"
   ]
  },
  {
   "cell_type": "code",
   "execution_count": 118,
   "metadata": {},
   "outputs": [],
   "source": [
    "Xtrain, Xtest, Ytrain, Ytest = train_test_split(X, Y, test_size=0.3)"
   ]
  },
  {
   "cell_type": "markdown",
   "metadata": {},
   "source": [
    "网格搜索"
   ]
  },
  {
   "cell_type": "code",
   "execution_count": 119,
   "metadata": {},
   "outputs": [
    {
     "name": "stdout",
     "output_type": "stream",
     "text": [
      "searching pca dim in range 1 t4o 23\n",
      "The accuracy under kernel linear and pca dimension 1 is 0.437500\n",
      "The accuracy under kernel poly and pca dimension 1 is 0.562500\n",
      "The accuracy under kernel rbf and pca dimension 1 is 0.656250\n",
      "The accuracy under kernel linear and pca dimension 2 is 0.656250\n",
      "The accuracy under kernel poly and pca dimension 2 is 0.687500\n",
      "The accuracy under kernel sigmoid and pca dimension 2 is 0.687500\n",
      "The accuracy under kernel linear and pca dimension 3 is 0.687500\n",
      "The accuracy under kernel poly and pca dimension 3 is 0.718750\n",
      "The accuracy under kernel sigmoid and pca dimension 3 is 0.718750\n",
      "The accuracy under kernel linear and pca dimension 4 is 0.718750\n",
      "The accuracy under kernel poly and pca dimension 4 is 0.718750\n",
      "The accuracy under kernel rbf and pca dimension 4 is 0.718750\n",
      "The accuracy under kernel sigmoid and pca dimension 4 is 0.750000\n",
      "The accuracy under kernel linear and pca dimension 10 is 0.750000\n",
      "The accuracy under kernel rbf and pca dimension 14 is 0.750000\n"
     ]
    }
   ],
   "source": [
    "best_score = -1\n",
    "best_kernel = ''\n",
    "best_pca_dim = -1\n",
    "min_dim = math.inf\n",
    "for class_name in class_list:\n",
    "    min_dim = min(min_dim, len(os.listdir(os.path.join(NORMALIZED_IMG_DIR, class_name))))\n",
    "min_dim = min(min_dim, 129)\n",
    "print(f'searching pca dim in range 1 t4o {min_dim}')\n",
    "for n_dim in range(1, min_dim):\n",
    "    pca = PCA(n_components=n_dim)\n",
    "    pca = pca.fit(X)\n",
    "    X_dr = pca.transform(Xtrain)\n",
    "    kernels = [\"linear\",\"poly\",\"rbf\",\"sigmoid\"]\n",
    "    for kernel in kernels:\n",
    "        clf = SVC(kernel=kernel)\n",
    "        score = cross_val_score(clf, X_dr, Ytrain, cv=4, scoring='accuracy').mean()\n",
    "        if score >= best_score:\n",
    "            best_score = score\n",
    "            best_pca_dim = n_dim\n",
    "            best_kernel = kernel\n",
    "            print(\"The accuracy under kernel %s and pca dimension %d is %f\" % (kernel, n_dim, score))"
   ]
  },
  {
   "cell_type": "markdown",
   "metadata": {},
   "source": [
    "使用最优参数构建模型"
   ]
  },
  {
   "cell_type": "code",
   "execution_count": 120,
   "metadata": {},
   "outputs": [
    {
     "data": {
      "text/plain": [
       "['angelman-normal_pca.pkl']"
      ]
     },
     "execution_count": 120,
     "metadata": {},
     "output_type": "execute_result"
    }
   ],
   "source": [
    "pca = PCA(n_components=best_pca_dim)\n",
    "pca = pca.fit(X)\n",
    "X_dr = pca.transform(X)\n",
    "joblib.dump(pca, pca_model_name)"
   ]
  },
  {
   "cell_type": "code",
   "execution_count": 121,
   "metadata": {},
   "outputs": [
    {
     "name": "stdout",
     "output_type": "stream",
     "text": [
      "              precision    recall  f1-score   support\n",
      "\n",
      "    Angelman       0.83      0.62      0.71         8\n",
      "      normal       0.62      0.83      0.71         6\n",
      "\n",
      "    accuracy                           0.71        14\n",
      "   macro avg       0.73      0.73      0.71        14\n",
      "weighted avg       0.74      0.71      0.71        14\n",
      "\n"
     ]
    }
   ],
   "source": [
    "clf = SVC(kernel=best_kernel, probability = True)\n",
    "X_train_dr = pca.transform(Xtrain)\n",
    "X_test_dr = pca.transform(Xtest)\n",
    "clf.fit(X_train_dr, Ytrain)\n",
    "Y_test_predict = clf.predict(X_test_dr)\n",
    "target_names = class_list\n",
    "print(classification_report(Ytest, Y_test_predict, target_names=target_names))"
   ]
  },
  {
   "cell_type": "code",
   "execution_count": 105,
   "metadata": {},
   "outputs": [
    {
     "data": {
      "text/plain": [
       "['angelman-normal.pkl']"
      ]
     },
     "execution_count": 105,
     "metadata": {},
     "output_type": "execute_result"
    }
   ],
   "source": [
    "joblib.dump(clf, clf_model_name)"
   ]
  },
  {
   "cell_type": "markdown",
   "metadata": {},
   "source": [
    "部分情况，上述搜索出的最优参数在测试集上并不一定是最优解，也一定程度上说明了参数量过少"
   ]
  },
  {
   "cell_type": "code",
   "execution_count": 87,
   "metadata": {},
   "outputs": [
    {
     "data": {
      "text/plain": [
       "['angelman-normal_pca.pkl']"
      ]
     },
     "execution_count": 87,
     "metadata": {},
     "output_type": "execute_result"
    }
   ],
   "source": [
    "pca = PCA(n_components=12)\n",
    "pca = pca.fit(X)\n",
    "X_dr = pca.transform(X)\n",
    "joblib.dump(pca, pca_model_name)"
   ]
  },
  {
   "cell_type": "code",
   "execution_count": 88,
   "metadata": {},
   "outputs": [
    {
     "name": "stdout",
     "output_type": "stream",
     "text": [
      "              precision    recall  f1-score   support\n",
      "\n",
      "    Angelman       1.00      0.71      0.83         7\n",
      "      normal       0.78      1.00      0.88         7\n",
      "\n",
      "    accuracy                           0.86        14\n",
      "   macro avg       0.89      0.86      0.85        14\n",
      "weighted avg       0.89      0.86      0.85        14\n",
      "\n"
     ]
    }
   ],
   "source": [
    "clf = SVC(kernel='rbf', probability = True)\n",
    "X_train_dr = pca.transform(Xtrain)\n",
    "X_test_dr = pca.transform(Xtest)\n",
    "clf.fit(X_train_dr, Ytrain)\n",
    "Y_test_predict = clf.predict(X_test_dr)\n",
    "target_names = class_list\n",
    "print(classification_report(Ytest, Y_test_predict, target_names=target_names))"
   ]
  },
  {
   "cell_type": "code",
   "execution_count": null,
   "metadata": {},
   "outputs": [],
   "source": []
  }
 ],
 "metadata": {
  "kernelspec": {
   "display_name": "Python 3",
   "language": "python",
   "name": "python3"
  },
  "language_info": {
   "codemirror_mode": {
    "name": "ipython",
    "version": 3
   },
   "file_extension": ".py",
   "mimetype": "text/x-python",
   "name": "python",
   "nbconvert_exporter": "python",
   "pygments_lexer": "ipython3",
   "version": "3.8.3"
  }
 },
 "nbformat": 4,
 "nbformat_minor": 4
}
