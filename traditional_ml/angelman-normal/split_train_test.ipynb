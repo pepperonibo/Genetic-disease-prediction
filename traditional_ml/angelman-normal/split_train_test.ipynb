{
 "cells": [
  {
   "cell_type": "code",
   "execution_count": 1,
   "metadata": {},
   "outputs": [],
   "source": [
    "import shutil\n",
    "import random\n",
    "import os"
   ]
  },
  {
   "cell_type": "code",
   "execution_count": 2,
   "metadata": {},
   "outputs": [],
   "source": [
    "NORMAL_IMG_DIR = '../../normalized_dataset'\n",
    "OUTPUT_DIR = './dataset'"
   ]
  },
  {
   "cell_type": "code",
   "execution_count": 3,
   "metadata": {},
   "outputs": [],
   "source": [
    "if not os.path.exists(OUTPUT_DIR):\n",
    "    os.makedirs(OUTPUT_DIR)"
   ]
  },
  {
   "cell_type": "code",
   "execution_count": 5,
   "metadata": {},
   "outputs": [],
   "source": [
    "class_list = ['Angelman', 'normal']"
   ]
  },
  {
   "cell_type": "code",
   "execution_count": 6,
   "metadata": {},
   "outputs": [],
   "source": [
    "pos_num = len(os.listdir(os.path.join(NORMAL_IMG_DIR, class_list[0])))"
   ]
  },
  {
   "cell_type": "code",
   "execution_count": 9,
   "metadata": {},
   "outputs": [],
   "source": [
    "for disease_class in class_list:\n",
    "    img_list = os.listdir(os.path.join(NORMAL_IMG_DIR, disease_class))\n",
    "    if not os.path.exists(os.path.join(OUTPUT_DIR, disease_class)):\n",
    "        os.makedirs(os.path.join(OUTPUT_DIR, disease_class))\n",
    "    random.shuffle(img_list)\n",
    "    img_list = img_list[: pos_num]\n",
    "    for img in img_list:\n",
    "        shutil.copy(os.path.join(NORMAL_IMG_DIR, disease_class, img), os.path.join(OUTPUT_DIR, disease_class))"
   ]
  },
  {
   "cell_type": "code",
   "execution_count": null,
   "metadata": {},
   "outputs": [],
   "source": []
  }
 ],
 "metadata": {
  "kernelspec": {
   "display_name": "Python 3",
   "language": "python",
   "name": "python3"
  },
  "language_info": {
   "codemirror_mode": {
    "name": "ipython",
    "version": 3
   },
   "file_extension": ".py",
   "mimetype": "text/x-python",
   "name": "python",
   "nbconvert_exporter": "python",
   "pygments_lexer": "ipython3",
   "version": "3.8.3"
  }
 },
 "nbformat": 4,
 "nbformat_minor": 4
}
