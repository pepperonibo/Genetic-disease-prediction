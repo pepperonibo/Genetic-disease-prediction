{
 "cells": [
  {
   "cell_type": "markdown",
   "metadata": {
    "id": "7FhnaCpzt8Fq"
   },
   "source": [
    "# 天使人综合征与正常群体间的二分类模型"
   ]
  },
  {
   "cell_type": "code",
   "execution_count": null,
   "metadata": {},
   "outputs": [],
   "source": [
    "import os\n",
    "import numpy as np\n",
    "from tensorflow.keras.models import Model, load_model\n",
    "from tensorflow.keras.layers import Dense\n",
    "from tensorflow.keras.preprocessing.image import ImageDataGenerator\n",
    "from tensorflow.python.keras.callbacks import EarlyStopping, ModelCheckpoint, TensorBoard\n",
    "from tensorflow.keras.callbacks import Callback\n",
    "from tensorflow import keras\n",
    "from sklearn.metrics import f1_score, recall_score, precision_score"
   ]
  },
  {
   "cell_type": "markdown",
   "metadata": {},
   "source": [
    "数据集路径"
   ]
  },
  {
   "cell_type": "code",
   "execution_count": null,
   "metadata": {
    "id": "0Y-Hddu_t8F5"
   },
   "outputs": [],
   "source": [
    "TRAIN_SET_DIR = './dataset/train'\n",
    "TEST_SET_DIR = './dataset/test'"
   ]
  },
  {
   "cell_type": "markdown",
   "metadata": {},
   "source": [
    "构造generator，避免一次读取全部图片导致占满内存"
   ]
  },
  {
   "cell_type": "code",
   "execution_count": null,
   "metadata": {
    "colab": {
     "base_uri": "https://localhost:8080/"
    },
    "id": "9lp4H6Tst8F7",
    "outputId": "a588188a-c8ee-456e-f515-9c47841bdb45"
   },
   "outputs": [],
   "source": [
    "image_processor = ImageDataGenerator(validation_split=0.25)\n",
    "train_generator = image_processor.flow_from_directory(\n",
    "    directory=TRAIN_SET_DIR,\n",
    "    target_size=(112, 96),\n",
    "    batch_size=16,\n",
    "    subset='training'\n",
    ")\n",
    "validation_generator = image_processor.flow_from_directory(\n",
    "    directory=TRAIN_SET_DIR,\n",
    "    target_size=(112, 96),\n",
    "    batch_size=sum([\n",
    "      len(os.listdir(os.path.join(TEST_SET_DIR, class_name)))\n",
    "      for class_name in os.listdir(TEST_SET_DIR)\n",
    "    ]),\n",
    "    subset='validation'\n",
    ")\n",
    "test_generator = image_processor.flow_from_directory(\n",
    "    directory=TEST_SET_DIR,\n",
    "    target_size=(112, 96),\n",
    "    batch_size=16\n",
    ")"
   ]
  },
  {
   "cell_type": "markdown",
   "metadata": {},
   "source": [
    "加载经过训练的预训练MobileFaceNet模型"
   ]
  },
  {
   "cell_type": "code",
   "execution_count": null,
   "metadata": {
    "colab": {
     "base_uri": "https://localhost:8080/"
    },
    "id": "cErpYQ_Jt8F-",
    "outputId": "d77ca090-ad8b-4bc6-f925-68a1c8e51fdb"
   },
   "outputs": [],
   "source": [
    "mobile_facenet = load_model('../../mobile_facenet.h5')"
   ]
  },
  {
   "cell_type": "markdown",
   "metadata": {},
   "source": [
    "改造模型结构使其适应当前问题"
   ]
  },
  {
   "cell_type": "code",
   "execution_count": null,
   "metadata": {
    "id": "x3x6MA5pt8F_"
   },
   "outputs": [],
   "source": [
    "top_layer = Dense(\n",
    "    2,\n",
    "    kernel_initializer='he_normal',\n",
    "    activation='softmax'\n",
    ")(mobile_facenet.output)"
   ]
  },
  {
   "cell_type": "code",
   "execution_count": null,
   "metadata": {
    "id": "8tKKJvUdt8GA"
   },
   "outputs": [],
   "source": [
    "model = Model(inputs=mobile_facenet.input, outputs=top_layer)"
   ]
  },
  {
   "cell_type": "markdown",
   "metadata": {},
   "source": [
    "增加checkpoint，保存中间结果"
   ]
  },
  {
   "cell_type": "code",
   "execution_count": null,
   "metadata": {
    "id": "wvqUZV8Wt8GB"
   },
   "outputs": [],
   "source": [
    "model_checkpoint_callback = ModelCheckpoint(\n",
    "        'saved_models/top_layer_trained_weights.{epoch:02d}-{val_accuracy:.2f}.h5',\n",
    "        monitor='val_accuracy',\n",
    "        mode='max',\n",
    "        verbose=1,\n",
    "        save_best_only=True\n",
    "    )"
   ]
  },
  {
   "cell_type": "code",
   "execution_count": null,
   "metadata": {
    "id": "_HVZJ_S81miw"
   },
   "outputs": [],
   "source": [
    "batches_per_epoch = train_generator.n // train_generator.batch_size"
   ]
  },
  {
   "cell_type": "markdown",
   "metadata": {},
   "source": [
    "使用tensorboard"
   ]
  },
  {
   "cell_type": "code",
   "execution_count": null,
   "metadata": {
    "colab": {
     "base_uri": "https://localhost:8080/"
    },
    "id": "B0xR6_SUkvfI",
    "outputId": "62a6fcfd-6fae-40eb-b47f-75bd1dec53f3"
   },
   "outputs": [],
   "source": [
    "tensorboard_callback = TensorBoard(\n",
    "        log_dir='logs',\n",
    "        batch_size=16\n",
    "    )"
   ]
  },
  {
   "cell_type": "markdown",
   "metadata": {},
   "source": [
    "监控准确率、查准率、查全率、auc"
   ]
  },
  {
   "cell_type": "code",
   "execution_count": 10,
   "metadata": {
    "id": "dlhLGemwlo0I"
   },
   "outputs": [],
   "source": [
    "METRICS = [\n",
    "  keras.metrics.TruePositives(name='tp'),\n",
    "  keras.metrics.FalsePositives(name='fp'),\n",
    "  keras.metrics.TrueNegatives(name='tn'),\n",
    "  keras.metrics.FalseNegatives(name='fn'), \n",
    "  keras.metrics.BinaryAccuracy(name='accuracy'),\n",
    "  keras.metrics.Precision(name='precision'),\n",
    "  keras.metrics.Recall(name='recall'),\n",
    "  keras.metrics.AUC(name='auc'),\n",
    "]"
   ]
  },
  {
   "cell_type": "markdown",
   "metadata": {},
   "source": [
    "编译模型"
   ]
  },
  {
   "cell_type": "code",
   "execution_count": 11,
   "metadata": {
    "id": "W9EmXR-Ot8GA"
   },
   "outputs": [],
   "source": [
    "model.compile(\n",
    "        loss='categorical_crossentropy',\n",
    "        optimizer='adam',\n",
    "        metrics = METRICS\n",
    "    )"
   ]
  },
  {
   "cell_type": "markdown",
   "metadata": {},
   "source": [
    "对模型进行训练"
   ]
  },
  {
   "cell_type": "code",
   "execution_count": 12,
   "metadata": {
    "colab": {
     "base_uri": "https://localhost:8080/"
    },
    "id": "VZP-VAzvt8GC",
    "outputId": "eeef5f93-f9de-43fc-a021-33a6bc8bce50"
   },
   "outputs": [
    {
     "name": "stdout",
     "output_type": "stream",
     "text": [
      "WARNING:tensorflow:From <ipython-input-12-72e4524a23cf>:1: Model.fit_generator (from tensorflow.python.keras.engine.training) is deprecated and will be removed in a future version.\n",
      "Instructions for updating:\n",
      "Please use Model.fit, which supports generators.\n",
      "Epoch 1/30\n",
      "1/1 [==============================] - ETA: 0s - loss: 5.5175 - tp: 7.0000 - fp: 9.0000 - tn: 7.0000 - fn: 9.0000 - accuracy: 0.4375 - precision: 0.4375 - recall: 0.4375 - auc: 0.3867\n",
      "Epoch 00001: val_accuracy improved from -inf to 0.50000, saving model to saved_models\\top_layer_trained_weights.01-0.50.h5\n",
      "1/1 [==============================] - 3s 3s/step - loss: 5.5175 - tp: 7.0000 - fp: 9.0000 - tn: 7.0000 - fn: 9.0000 - accuracy: 0.4375 - precision: 0.4375 - recall: 0.4375 - auc: 0.3867 - val_loss: 15.5724 - val_tp: 4.0000 - val_fp: 4.0000 - val_tn: 4.0000 - val_fn: 4.0000 - val_accuracy: 0.5000 - val_precision: 0.5000 - val_recall: 0.5000 - val_auc: 0.5000\n",
      "Epoch 2/30\n",
      "WARNING:tensorflow:From D:\\program\\Anaconda\\lib\\site-packages\\tensorflow\\python\\ops\\summary_ops_v2.py:1277: stop (from tensorflow.python.eager.profiler) is deprecated and will be removed after 2020-07-01.\n",
      "Instructions for updating:\n",
      "use `tf.profiler.experimental.stop` instead.\n",
      "1/1 [==============================] - ETA: 0s - loss: 0.8970 - tp: 15.0000 - fp: 1.0000 - tn: 15.0000 - fn: 1.0000 - accuracy: 0.9375 - precision: 0.9375 - recall: 0.9375 - auc: 0.9883\n",
      "Epoch 00002: val_accuracy did not improve from 0.50000\n",
      "1/1 [==============================] - 0s 191ms/step - loss: 0.8970 - tp: 15.0000 - fp: 1.0000 - tn: 15.0000 - fn: 1.0000 - accuracy: 0.9375 - precision: 0.9375 - recall: 0.9375 - auc: 0.9883 - val_loss: 15.4888 - val_tp: 4.0000 - val_fp: 4.0000 - val_tn: 4.0000 - val_fn: 4.0000 - val_accuracy: 0.5000 - val_precision: 0.5000 - val_recall: 0.5000 - val_auc: 0.5000\n",
      "Epoch 3/30\n",
      "1/1 [==============================] - ETA: 0s - loss: 1.1546 - tp: 9.0000 - fp: 1.0000 - tn: 9.0000 - fn: 1.0000 - accuracy: 0.9000 - precision: 0.9000 - recall: 0.9000 - auc: 0.9000\n",
      "Epoch 00003: val_accuracy did not improve from 0.50000\n",
      "1/1 [==============================] - 0s 190ms/step - loss: 1.1546 - tp: 9.0000 - fp: 1.0000 - tn: 9.0000 - fn: 1.0000 - accuracy: 0.9000 - precision: 0.9000 - recall: 0.9000 - auc: 0.9000 - val_loss: 13.9358 - val_tp: 4.0000 - val_fp: 4.0000 - val_tn: 4.0000 - val_fn: 4.0000 - val_accuracy: 0.5000 - val_precision: 0.5000 - val_recall: 0.5000 - val_auc: 0.4375\n",
      "Epoch 4/30\n",
      "1/1 [==============================] - ETA: 0s - loss: 5.3223 - tp: 7.0000 - fp: 3.0000 - tn: 7.0000 - fn: 3.0000 - accuracy: 0.7000 - precision: 0.7000 - recall: 0.7000 - auc: 0.6700\n",
      "Epoch 00004: val_accuracy did not improve from 0.50000\n",
      "1/1 [==============================] - 0s 193ms/step - loss: 5.3223 - tp: 7.0000 - fp: 3.0000 - tn: 7.0000 - fn: 3.0000 - accuracy: 0.7000 - precision: 0.7000 - recall: 0.7000 - auc: 0.6700 - val_loss: 12.6821 - val_tp: 3.0000 - val_fp: 5.0000 - val_tn: 3.0000 - val_fn: 5.0000 - val_accuracy: 0.3750 - val_precision: 0.3750 - val_recall: 0.3750 - val_auc: 0.4219\n",
      "Epoch 5/30\n",
      "1/1 [==============================] - ETA: 0s - loss: 0.6288 - tp: 10.0000 - fp: 0.0000e+00 - tn: 10.0000 - fn: 0.0000e+00 - accuracy: 1.0000 - precision: 1.0000 - recall: 1.0000 - auc: 1.0000\n",
      "Epoch 00005: val_accuracy did not improve from 0.50000\n",
      "1/1 [==============================] - 0s 189ms/step - loss: 0.6288 - tp: 10.0000 - fp: 0.0000e+00 - tn: 10.0000 - fn: 0.0000e+00 - accuracy: 1.0000 - precision: 1.0000 - recall: 1.0000 - auc: 1.0000 - val_loss: 11.3434 - val_tp: 3.0000 - val_fp: 5.0000 - val_tn: 3.0000 - val_fn: 5.0000 - val_accuracy: 0.3750 - val_precision: 0.3750 - val_recall: 0.3750 - val_auc: 0.3750\n",
      "Epoch 6/30\n",
      "1/1 [==============================] - ETA: 0s - loss: 0.6478 - tp: 10.0000 - fp: 0.0000e+00 - tn: 10.0000 - fn: 0.0000e+00 - accuracy: 1.0000 - precision: 1.0000 - recall: 1.0000 - auc: 1.0000\n",
      "Epoch 00006: val_accuracy did not improve from 0.50000\n",
      "1/1 [==============================] - 0s 178ms/step - loss: 0.6478 - tp: 10.0000 - fp: 0.0000e+00 - tn: 10.0000 - fn: 0.0000e+00 - accuracy: 1.0000 - precision: 1.0000 - recall: 1.0000 - auc: 1.0000 - val_loss: 9.6565 - val_tp: 3.0000 - val_fp: 5.0000 - val_tn: 3.0000 - val_fn: 5.0000 - val_accuracy: 0.3750 - val_precision: 0.3750 - val_recall: 0.3750 - val_auc: 0.3750\n",
      "Epoch 7/30\n",
      "1/1 [==============================] - ETA: 0s - loss: 0.6182 - tp: 10.0000 - fp: 0.0000e+00 - tn: 10.0000 - fn: 0.0000e+00 - accuracy: 1.0000 - precision: 1.0000 - recall: 1.0000 - auc: 1.0000\n",
      "Epoch 00007: val_accuracy did not improve from 0.50000\n",
      "1/1 [==============================] - 0s 190ms/step - loss: 0.6182 - tp: 10.0000 - fp: 0.0000e+00 - tn: 10.0000 - fn: 0.0000e+00 - accuracy: 1.0000 - precision: 1.0000 - recall: 1.0000 - auc: 1.0000 - val_loss: 8.2787 - val_tp: 3.0000 - val_fp: 5.0000 - val_tn: 3.0000 - val_fn: 5.0000 - val_accuracy: 0.3750 - val_precision: 0.3750 - val_recall: 0.3750 - val_auc: 0.4219\n",
      "Epoch 8/30\n",
      "1/1 [==============================] - ETA: 0s - loss: 0.6361 - tp: 16.0000 - fp: 0.0000e+00 - tn: 16.0000 - fn: 0.0000e+00 - accuracy: 1.0000 - precision: 1.0000 - recall: 1.0000 - auc: 1.0000\n",
      "Epoch 00008: val_accuracy did not improve from 0.50000\n",
      "1/1 [==============================] - 0s 197ms/step - loss: 0.6361 - tp: 16.0000 - fp: 0.0000e+00 - tn: 16.0000 - fn: 0.0000e+00 - accuracy: 1.0000 - precision: 1.0000 - recall: 1.0000 - auc: 1.0000 - val_loss: 7.0380 - val_tp: 3.0000 - val_fp: 5.0000 - val_tn: 3.0000 - val_fn: 5.0000 - val_accuracy: 0.3750 - val_precision: 0.3750 - val_recall: 0.3750 - val_auc: 0.4219\n",
      "Epoch 9/30\n",
      "1/1 [==============================] - ETA: 0s - loss: 0.6183 - tp: 10.0000 - fp: 0.0000e+00 - tn: 10.0000 - fn: 0.0000e+00 - accuracy: 1.0000 - precision: 1.0000 - recall: 1.0000 - auc: 1.0000\n",
      "Epoch 00009: val_accuracy did not improve from 0.50000\n",
      "1/1 [==============================] - 0s 210ms/step - loss: 0.6183 - tp: 10.0000 - fp: 0.0000e+00 - tn: 10.0000 - fn: 0.0000e+00 - accuracy: 1.0000 - precision: 1.0000 - recall: 1.0000 - auc: 1.0000 - val_loss: 5.7868 - val_tp: 4.0000 - val_fp: 4.0000 - val_tn: 4.0000 - val_fn: 4.0000 - val_accuracy: 0.5000 - val_precision: 0.5000 - val_recall: 0.5000 - val_auc: 0.4375\n",
      "Epoch 10/30\n",
      "1/1 [==============================] - ETA: 0s - loss: 0.6183 - tp: 16.0000 - fp: 0.0000e+00 - tn: 16.0000 - fn: 0.0000e+00 - accuracy: 1.0000 - precision: 1.0000 - recall: 1.0000 - auc: 1.0000\n",
      "Epoch 00010: val_accuracy did not improve from 0.50000\n",
      "1/1 [==============================] - 0s 193ms/step - loss: 0.6183 - tp: 16.0000 - fp: 0.0000e+00 - tn: 16.0000 - fn: 0.0000e+00 - accuracy: 1.0000 - precision: 1.0000 - recall: 1.0000 - auc: 1.0000 - val_loss: 4.5591 - val_tp: 4.0000 - val_fp: 4.0000 - val_tn: 4.0000 - val_fn: 4.0000 - val_accuracy: 0.5000 - val_precision: 0.5000 - val_recall: 0.5000 - val_auc: 0.4219\n",
      "Epoch 11/30\n",
      "1/1 [==============================] - ETA: 0s - loss: 1.3208 - tp: 9.0000 - fp: 1.0000 - tn: 9.0000 - fn: 1.0000 - accuracy: 0.9000 - precision: 0.9000 - recall: 0.9000 - auc: 0.8800\n",
      "Epoch 00011: val_accuracy did not improve from 0.50000\n",
      "1/1 [==============================] - 0s 199ms/step - loss: 1.3208 - tp: 9.0000 - fp: 1.0000 - tn: 9.0000 - fn: 1.0000 - accuracy: 0.9000 - precision: 0.9000 - recall: 0.9000 - auc: 0.8800 - val_loss: 3.6927 - val_tp: 4.0000 - val_fp: 4.0000 - val_tn: 4.0000 - val_fn: 4.0000 - val_accuracy: 0.5000 - val_precision: 0.5000 - val_recall: 0.5000 - val_auc: 0.5000\n",
      "Epoch 12/30\n",
      "1/1 [==============================] - ETA: 0s - loss: 0.6184 - tp: 10.0000 - fp: 0.0000e+00 - tn: 10.0000 - fn: 0.0000e+00 - accuracy: 1.0000 - precision: 1.0000 - recall: 1.0000 - auc: 1.0000\n",
      "Epoch 00012: val_accuracy did not improve from 0.50000\n",
      "1/1 [==============================] - 0s 227ms/step - loss: 0.6184 - tp: 10.0000 - fp: 0.0000e+00 - tn: 10.0000 - fn: 0.0000e+00 - accuracy: 1.0000 - precision: 1.0000 - recall: 1.0000 - auc: 1.0000 - val_loss: 2.9334 - val_tp: 4.0000 - val_fp: 4.0000 - val_tn: 4.0000 - val_fn: 4.0000 - val_accuracy: 0.5000 - val_precision: 0.5000 - val_recall: 0.5000 - val_auc: 0.5312\n",
      "Epoch 13/30\n",
      "1/1 [==============================] - ETA: 0s - loss: 0.6185 - tp: 16.0000 - fp: 0.0000e+00 - tn: 16.0000 - fn: 0.0000e+00 - accuracy: 1.0000 - precision: 1.0000 - recall: 1.0000 - auc: 1.0000\n",
      "Epoch 00013: val_accuracy improved from 0.50000 to 0.62500, saving model to saved_models\\top_layer_trained_weights.13-0.62.h5\n",
      "1/1 [==============================] - 1s 541ms/step - loss: 0.6185 - tp: 16.0000 - fp: 0.0000e+00 - tn: 16.0000 - fn: 0.0000e+00 - accuracy: 1.0000 - precision: 1.0000 - recall: 1.0000 - auc: 1.0000 - val_loss: 2.5750 - val_tp: 5.0000 - val_fp: 3.0000 - val_tn: 5.0000 - val_fn: 3.0000 - val_accuracy: 0.6250 - val_precision: 0.6250 - val_recall: 0.6250 - val_auc: 0.5781\n",
      "Epoch 14/30\n",
      "1/1 [==============================] - ETA: 0s - loss: 0.8524 - tp: 9.0000 - fp: 1.0000 - tn: 9.0000 - fn: 1.0000 - accuracy: 0.9000 - precision: 0.9000 - recall: 0.9000 - auc: 0.9700\n",
      "Epoch 00014: val_accuracy did not improve from 0.62500\n",
      "1/1 [==============================] - 0s 211ms/step - loss: 0.8524 - tp: 9.0000 - fp: 1.0000 - tn: 9.0000 - fn: 1.0000 - accuracy: 0.9000 - precision: 0.9000 - recall: 0.9000 - auc: 0.9700 - val_loss: 2.2386 - val_tp: 5.0000 - val_fp: 3.0000 - val_tn: 5.0000 - val_fn: 3.0000 - val_accuracy: 0.6250 - val_precision: 0.6250 - val_recall: 0.6250 - val_auc: 0.6094\n",
      "Epoch 15/30\n",
      "1/1 [==============================] - ETA: 0s - loss: 1.0698 - tp: 9.0000 - fp: 1.0000 - tn: 9.0000 - fn: 1.0000 - accuracy: 0.9000 - precision: 0.9000 - recall: 0.9000 - auc: 0.9700\n",
      "Epoch 00015: val_accuracy did not improve from 0.62500\n",
      "1/1 [==============================] - 0s 195ms/step - loss: 1.0698 - tp: 9.0000 - fp: 1.0000 - tn: 9.0000 - fn: 1.0000 - accuracy: 0.9000 - precision: 0.9000 - recall: 0.9000 - auc: 0.9700 - val_loss: 1.9324 - val_tp: 5.0000 - val_fp: 3.0000 - val_tn: 5.0000 - val_fn: 3.0000 - val_accuracy: 0.6250 - val_precision: 0.6250 - val_recall: 0.6250 - val_auc: 0.6875\n",
      "Epoch 16/30\n",
      "1/1 [==============================] - ETA: 0s - loss: 0.6187 - tp: 16.0000 - fp: 0.0000e+00 - tn: 16.0000 - fn: 0.0000e+00 - accuracy: 1.0000 - precision: 1.0000 - recall: 1.0000 - auc: 1.0000\n",
      "Epoch 00016: val_accuracy did not improve from 0.62500\n",
      "1/1 [==============================] - 0s 189ms/step - loss: 0.6187 - tp: 16.0000 - fp: 0.0000e+00 - tn: 16.0000 - fn: 0.0000e+00 - accuracy: 1.0000 - precision: 1.0000 - recall: 1.0000 - auc: 1.0000 - val_loss: 1.6904 - val_tp: 5.0000 - val_fp: 3.0000 - val_tn: 5.0000 - val_fn: 3.0000 - val_accuracy: 0.6250 - val_precision: 0.6250 - val_recall: 0.6250 - val_auc: 0.7031\n",
      "Epoch 17/30\n",
      "1/1 [==============================] - ETA: 0s - loss: 0.6186 - tp: 10.0000 - fp: 0.0000e+00 - tn: 10.0000 - fn: 0.0000e+00 - accuracy: 1.0000 - precision: 1.0000 - recall: 1.0000 - auc: 1.0000\n",
      "Epoch 00017: val_accuracy did not improve from 0.62500\n",
      "1/1 [==============================] - 0s 196ms/step - loss: 0.6186 - tp: 10.0000 - fp: 0.0000e+00 - tn: 10.0000 - fn: 0.0000e+00 - accuracy: 1.0000 - precision: 1.0000 - recall: 1.0000 - auc: 1.0000 - val_loss: 1.3859 - val_tp: 5.0000 - val_fp: 3.0000 - val_tn: 5.0000 - val_fn: 3.0000 - val_accuracy: 0.6250 - val_precision: 0.6250 - val_recall: 0.6250 - val_auc: 0.7188\n",
      "Epoch 18/30\n",
      "1/1 [==============================] - ETA: 0s - loss: 0.6188 - tp: 16.0000 - fp: 0.0000e+00 - tn: 16.0000 - fn: 0.0000e+00 - accuracy: 1.0000 - precision: 1.0000 - recall: 1.0000 - auc: 1.0000\n",
      "Epoch 00018: val_accuracy did not improve from 0.62500\n",
      "1/1 [==============================] - 0s 202ms/step - loss: 0.6188 - tp: 16.0000 - fp: 0.0000e+00 - tn: 16.0000 - fn: 0.0000e+00 - accuracy: 1.0000 - precision: 1.0000 - recall: 1.0000 - auc: 1.0000 - val_loss: 1.2868 - val_tp: 5.0000 - val_fp: 3.0000 - val_tn: 5.0000 - val_fn: 3.0000 - val_accuracy: 0.6250 - val_precision: 0.6250 - val_recall: 0.6250 - val_auc: 0.7344\n",
      "Epoch 19/30\n",
      "1/1 [==============================] - ETA: 0s - loss: 1.2956 - tp: 9.0000 - fp: 1.0000 - tn: 9.0000 - fn: 1.0000 - accuracy: 0.9000 - precision: 0.9000 - recall: 0.9000 - auc: 0.9000\n",
      "Epoch 00019: val_accuracy did not improve from 0.62500\n",
      "1/1 [==============================] - 0s 201ms/step - loss: 1.2956 - tp: 9.0000 - fp: 1.0000 - tn: 9.0000 - fn: 1.0000 - accuracy: 0.9000 - precision: 0.9000 - recall: 0.9000 - auc: 0.9000 - val_loss: 1.2558 - val_tp: 4.0000 - val_fp: 4.0000 - val_tn: 4.0000 - val_fn: 4.0000 - val_accuracy: 0.5000 - val_precision: 0.5000 - val_recall: 0.5000 - val_auc: 0.7188\n",
      "Epoch 20/30\n",
      "1/1 [==============================] - ETA: 0s - loss: 0.6187 - tp: 10.0000 - fp: 0.0000e+00 - tn: 10.0000 - fn: 0.0000e+00 - accuracy: 1.0000 - precision: 1.0000 - recall: 1.0000 - auc: 1.0000\n",
      "Epoch 00020: val_accuracy did not improve from 0.62500\n",
      "1/1 [==============================] - 0s 207ms/step - loss: 0.6187 - tp: 10.0000 - fp: 0.0000e+00 - tn: 10.0000 - fn: 0.0000e+00 - accuracy: 1.0000 - precision: 1.0000 - recall: 1.0000 - auc: 1.0000 - val_loss: 1.1802 - val_tp: 5.0000 - val_fp: 3.0000 - val_tn: 5.0000 - val_fn: 3.0000 - val_accuracy: 0.6250 - val_precision: 0.6250 - val_recall: 0.6250 - val_auc: 0.7344\n",
      "Epoch 21/30\n",
      "1/1 [==============================] - ETA: 0s - loss: 0.6189 - tp: 10.0000 - fp: 0.0000e+00 - tn: 10.0000 - fn: 0.0000e+00 - accuracy: 1.0000 - precision: 1.0000 - recall: 1.0000 - auc: 1.0000\n",
      "Epoch 00021: val_accuracy did not improve from 0.62500\n",
      "1/1 [==============================] - 0s 194ms/step - loss: 0.6189 - tp: 10.0000 - fp: 0.0000e+00 - tn: 10.0000 - fn: 0.0000e+00 - accuracy: 1.0000 - precision: 1.0000 - recall: 1.0000 - auc: 1.0000 - val_loss: 1.1437 - val_tp: 5.0000 - val_fp: 3.0000 - val_tn: 5.0000 - val_fn: 3.0000 - val_accuracy: 0.6250 - val_precision: 0.6250 - val_recall: 0.6250 - val_auc: 0.7344\n",
      "Epoch 22/30\n",
      "1/1 [==============================] - ETA: 0s - loss: 0.6187 - tp: 16.0000 - fp: 0.0000e+00 - tn: 16.0000 - fn: 0.0000e+00 - accuracy: 1.0000 - precision: 1.0000 - recall: 1.0000 - auc: 1.0000\n",
      "Epoch 00022: val_accuracy improved from 0.62500 to 0.87500, saving model to saved_models\\top_layer_trained_weights.22-0.88.h5\n",
      "1/1 [==============================] - 1s 575ms/step - loss: 0.6187 - tp: 16.0000 - fp: 0.0000e+00 - tn: 16.0000 - fn: 0.0000e+00 - accuracy: 1.0000 - precision: 1.0000 - recall: 1.0000 - auc: 1.0000 - val_loss: 1.0824 - val_tp: 7.0000 - val_fp: 1.0000 - val_tn: 7.0000 - val_fn: 1.0000 - val_accuracy: 0.8750 - val_precision: 0.8750 - val_recall: 0.8750 - val_auc: 0.8594\n",
      "Epoch 23/30\n",
      "1/1 [==============================] - ETA: 0s - loss: 0.6187 - tp: 10.0000 - fp: 0.0000e+00 - tn: 10.0000 - fn: 0.0000e+00 - accuracy: 1.0000 - precision: 1.0000 - recall: 1.0000 - auc: 1.0000\n",
      "Epoch 00023: val_accuracy did not improve from 0.87500\n",
      "1/1 [==============================] - 0s 194ms/step - loss: 0.6187 - tp: 10.0000 - fp: 0.0000e+00 - tn: 10.0000 - fn: 0.0000e+00 - accuracy: 1.0000 - precision: 1.0000 - recall: 1.0000 - auc: 1.0000 - val_loss: 1.0283 - val_tp: 7.0000 - val_fp: 1.0000 - val_tn: 7.0000 - val_fn: 1.0000 - val_accuracy: 0.8750 - val_precision: 0.8750 - val_recall: 0.8750 - val_auc: 0.8750\n",
      "Epoch 24/30\n",
      "1/1 [==============================] - ETA: 0s - loss: 0.6188 - tp: 10.0000 - fp: 0.0000e+00 - tn: 10.0000 - fn: 0.0000e+00 - accuracy: 1.0000 - precision: 1.0000 - recall: 1.0000 - auc: 1.0000\n",
      "Epoch 00024: val_accuracy did not improve from 0.87500\n",
      "1/1 [==============================] - 0s 205ms/step - loss: 0.6188 - tp: 10.0000 - fp: 0.0000e+00 - tn: 10.0000 - fn: 0.0000e+00 - accuracy: 1.0000 - precision: 1.0000 - recall: 1.0000 - auc: 1.0000 - val_loss: 1.0376 - val_tp: 7.0000 - val_fp: 1.0000 - val_tn: 7.0000 - val_fn: 1.0000 - val_accuracy: 0.8750 - val_precision: 0.8750 - val_recall: 0.8750 - val_auc: 0.8906\n",
      "Epoch 25/30\n",
      "1/1 [==============================] - ETA: 0s - loss: 0.6188 - tp: 16.0000 - fp: 0.0000e+00 - tn: 16.0000 - fn: 0.0000e+00 - accuracy: 1.0000 - precision: 1.0000 - recall: 1.0000 - auc: 1.0000\n",
      "Epoch 00025: val_accuracy did not improve from 0.87500\n",
      "1/1 [==============================] - 0s 193ms/step - loss: 0.6188 - tp: 16.0000 - fp: 0.0000e+00 - tn: 16.0000 - fn: 0.0000e+00 - accuracy: 1.0000 - precision: 1.0000 - recall: 1.0000 - auc: 1.0000 - val_loss: 1.0459 - val_tp: 7.0000 - val_fp: 1.0000 - val_tn: 7.0000 - val_fn: 1.0000 - val_accuracy: 0.8750 - val_precision: 0.8750 - val_recall: 0.8750 - val_auc: 0.9219\n",
      "Epoch 26/30\n",
      "1/1 [==============================] - ETA: 0s - loss: 0.6188 - tp: 16.0000 - fp: 0.0000e+00 - tn: 16.0000 - fn: 0.0000e+00 - accuracy: 1.0000 - precision: 1.0000 - recall: 1.0000 - auc: 1.0000\n",
      "Epoch 00026: val_accuracy did not improve from 0.87500\n",
      "1/1 [==============================] - 0s 193ms/step - loss: 0.6188 - tp: 16.0000 - fp: 0.0000e+00 - tn: 16.0000 - fn: 0.0000e+00 - accuracy: 1.0000 - precision: 1.0000 - recall: 1.0000 - auc: 1.0000 - val_loss: 1.0398 - val_tp: 7.0000 - val_fp: 1.0000 - val_tn: 7.0000 - val_fn: 1.0000 - val_accuracy: 0.8750 - val_precision: 0.8750 - val_recall: 0.8750 - val_auc: 0.9062\n",
      "Epoch 27/30\n",
      "1/1 [==============================] - ETA: 0s - loss: 0.6188 - tp: 16.0000 - fp: 0.0000e+00 - tn: 16.0000 - fn: 0.0000e+00 - accuracy: 1.0000 - precision: 1.0000 - recall: 1.0000 - auc: 1.0000\n",
      "Epoch 00027: val_accuracy did not improve from 0.87500\n",
      "1/1 [==============================] - 0s 189ms/step - loss: 0.6188 - tp: 16.0000 - fp: 0.0000e+00 - tn: 16.0000 - fn: 0.0000e+00 - accuracy: 1.0000 - precision: 1.0000 - recall: 1.0000 - auc: 1.0000 - val_loss: 1.0244 - val_tp: 7.0000 - val_fp: 1.0000 - val_tn: 7.0000 - val_fn: 1.0000 - val_accuracy: 0.8750 - val_precision: 0.8750 - val_recall: 0.8750 - val_auc: 0.8906\n",
      "Epoch 28/30\n",
      "1/1 [==============================] - ETA: 0s - loss: 0.6188 - tp: 10.0000 - fp: 0.0000e+00 - tn: 10.0000 - fn: 0.0000e+00 - accuracy: 1.0000 - precision: 1.0000 - recall: 1.0000 - auc: 1.0000\n",
      "Epoch 00028: val_accuracy did not improve from 0.87500\n",
      "1/1 [==============================] - 0s 201ms/step - loss: 0.6188 - tp: 10.0000 - fp: 0.0000e+00 - tn: 10.0000 - fn: 0.0000e+00 - accuracy: 1.0000 - precision: 1.0000 - recall: 1.0000 - auc: 1.0000 - val_loss: 0.9715 - val_tp: 7.0000 - val_fp: 1.0000 - val_tn: 7.0000 - val_fn: 1.0000 - val_accuracy: 0.8750 - val_precision: 0.8750 - val_recall: 0.8750 - val_auc: 0.9062\n",
      "Epoch 29/30\n",
      "1/1 [==============================] - ETA: 0s - loss: 0.6188 - tp: 10.0000 - fp: 0.0000e+00 - tn: 10.0000 - fn: 0.0000e+00 - accuracy: 1.0000 - precision: 1.0000 - recall: 1.0000 - auc: 1.0000\n",
      "Epoch 00029: val_accuracy did not improve from 0.87500\n",
      "1/1 [==============================] - 0s 190ms/step - loss: 0.6188 - tp: 10.0000 - fp: 0.0000e+00 - tn: 10.0000 - fn: 0.0000e+00 - accuracy: 1.0000 - precision: 1.0000 - recall: 1.0000 - auc: 1.0000 - val_loss: 0.9367 - val_tp: 7.0000 - val_fp: 1.0000 - val_tn: 7.0000 - val_fn: 1.0000 - val_accuracy: 0.8750 - val_precision: 0.8750 - val_recall: 0.8750 - val_auc: 0.9219\n",
      "Epoch 30/30\n",
      "1/1 [==============================] - ETA: 0s - loss: 0.6189 - tp: 10.0000 - fp: 0.0000e+00 - tn: 10.0000 - fn: 0.0000e+00 - accuracy: 1.0000 - precision: 1.0000 - recall: 1.0000 - auc: 1.0000\n",
      "Epoch 00030: val_accuracy did not improve from 0.87500\n",
      "1/1 [==============================] - 0s 191ms/step - loss: 0.6189 - tp: 10.0000 - fp: 0.0000e+00 - tn: 10.0000 - fn: 0.0000e+00 - accuracy: 1.0000 - precision: 1.0000 - recall: 1.0000 - auc: 1.0000 - val_loss: 0.8965 - val_tp: 7.0000 - val_fp: 1.0000 - val_tn: 7.0000 - val_fn: 1.0000 - val_accuracy: 0.8750 - val_precision: 0.8750 - val_recall: 0.8750 - val_auc: 0.9844\n"
     ]
    }
   ],
   "source": [
    "history = model.fit_generator(\n",
    "    train_generator,\n",
    "    steps_per_epoch=batches_per_epoch,\n",
    "    epochs=30,\n",
    "    callbacks=[\n",
    "            # mae_callback,\n",
    "            # early_stopping_callback,\n",
    "            # metrics,\n",
    "            model_checkpoint_callback,\n",
    "            tensorboard_callback\n",
    "        ],\n",
    "    validation_data=validation_generator\n",
    ")"
   ]
  },
  {
   "cell_type": "markdown",
   "metadata": {},
   "source": [
    "打印模型结构"
   ]
  },
  {
   "cell_type": "code",
   "execution_count": 13,
   "metadata": {
    "colab": {
     "base_uri": "https://localhost:8080/"
    },
    "id": "KwpEdwiXt8GD",
    "outputId": "22d0f87b-5308-4d37-87a1-5ddc2dbc807e"
   },
   "outputs": [
    {
     "name": "stdout",
     "output_type": "stream",
     "text": [
      "Model: \"functional_1\"\n",
      "__________________________________________________________________________________________________\n",
      "Layer (type)                    Output Shape         Param #     Connected to                     \n",
      "==================================================================================================\n",
      "input_1 (InputLayer)            [(None, 112, 96, 3)] 0                                            \n",
      "__________________________________________________________________________________________________\n",
      "zero_padding2d (ZeroPadding2D)  (None, 114, 98, 3)   0           input_1[0][0]                    \n",
      "__________________________________________________________________________________________________\n",
      "conv2d (Conv2D)                 (None, 56, 48, 64)   1728        zero_padding2d[0][0]             \n",
      "__________________________________________________________________________________________________\n",
      "batch_normalization (BatchNorma (None, 56, 48, 64)   256         conv2d[0][0]                     \n",
      "__________________________________________________________________________________________________\n",
      "p_re_lu (PReLU)                 (None, 56, 48, 64)   64          batch_normalization[0][0]        \n",
      "__________________________________________________________________________________________________\n",
      "zero_padding2d_1 (ZeroPadding2D (None, 58, 50, 64)   0           p_re_lu[0][0]                    \n",
      "__________________________________________________________________________________________________\n",
      "depthwise_conv2d (DepthwiseConv (None, 56, 48, 64)   576         zero_padding2d_1[0][0]           \n",
      "__________________________________________________________________________________________________\n",
      "batch_normalization_1 (BatchNor (None, 56, 48, 64)   256         depthwise_conv2d[0][0]           \n",
      "__________________________________________________________________________________________________\n",
      "p_re_lu_1 (PReLU)               (None, 56, 48, 64)   64          batch_normalization_1[0][0]      \n",
      "__________________________________________________________________________________________________\n",
      "conv2d_1 (Conv2D)               (None, 56, 48, 128)  8192        p_re_lu_1[0][0]                  \n",
      "__________________________________________________________________________________________________\n",
      "batch_normalization_2 (BatchNor (None, 56, 48, 128)  512         conv2d_1[0][0]                   \n",
      "__________________________________________________________________________________________________\n",
      "p_re_lu_2 (PReLU)               (None, 56, 48, 128)  128         batch_normalization_2[0][0]      \n",
      "__________________________________________________________________________________________________\n",
      "zero_padding2d_2 (ZeroPadding2D (None, 58, 50, 128)  0           p_re_lu_2[0][0]                  \n",
      "__________________________________________________________________________________________________\n",
      "depthwise_conv2d_1 (DepthwiseCo (None, 28, 24, 128)  1152        zero_padding2d_2[0][0]           \n",
      "__________________________________________________________________________________________________\n",
      "batch_normalization_3 (BatchNor (None, 28, 24, 128)  512         depthwise_conv2d_1[0][0]         \n",
      "__________________________________________________________________________________________________\n",
      "p_re_lu_3 (PReLU)               (None, 28, 24, 128)  128         batch_normalization_3[0][0]      \n",
      "__________________________________________________________________________________________________\n",
      "conv2d_2 (Conv2D)               (None, 28, 24, 64)   8192        p_re_lu_3[0][0]                  \n",
      "__________________________________________________________________________________________________\n",
      "batch_normalization_4 (BatchNor (None, 28, 24, 64)   256         conv2d_2[0][0]                   \n",
      "__________________________________________________________________________________________________\n",
      "conv2d_3 (Conv2D)               (None, 28, 24, 128)  8192        batch_normalization_4[0][0]      \n",
      "__________________________________________________________________________________________________\n",
      "batch_normalization_5 (BatchNor (None, 28, 24, 128)  512         conv2d_3[0][0]                   \n",
      "__________________________________________________________________________________________________\n",
      "p_re_lu_4 (PReLU)               (None, 28, 24, 128)  128         batch_normalization_5[0][0]      \n",
      "__________________________________________________________________________________________________\n",
      "zero_padding2d_3 (ZeroPadding2D (None, 30, 26, 128)  0           p_re_lu_4[0][0]                  \n",
      "__________________________________________________________________________________________________\n",
      "depthwise_conv2d_2 (DepthwiseCo (None, 28, 24, 128)  1152        zero_padding2d_3[0][0]           \n",
      "__________________________________________________________________________________________________\n",
      "batch_normalization_6 (BatchNor (None, 28, 24, 128)  512         depthwise_conv2d_2[0][0]         \n",
      "__________________________________________________________________________________________________\n",
      "p_re_lu_5 (PReLU)               (None, 28, 24, 128)  128         batch_normalization_6[0][0]      \n",
      "__________________________________________________________________________________________________\n",
      "conv2d_4 (Conv2D)               (None, 28, 24, 64)   8192        p_re_lu_5[0][0]                  \n",
      "__________________________________________________________________________________________________\n",
      "batch_normalization_7 (BatchNor (None, 28, 24, 64)   256         conv2d_4[0][0]                   \n",
      "__________________________________________________________________________________________________\n",
      "add (Add)                       (None, 28, 24, 64)   0           batch_normalization_7[0][0]      \n",
      "                                                                 batch_normalization_4[0][0]      \n",
      "__________________________________________________________________________________________________\n",
      "conv2d_5 (Conv2D)               (None, 28, 24, 128)  8192        add[0][0]                        \n",
      "__________________________________________________________________________________________________\n",
      "batch_normalization_8 (BatchNor (None, 28, 24, 128)  512         conv2d_5[0][0]                   \n",
      "__________________________________________________________________________________________________\n",
      "p_re_lu_6 (PReLU)               (None, 28, 24, 128)  128         batch_normalization_8[0][0]      \n",
      "__________________________________________________________________________________________________\n",
      "zero_padding2d_4 (ZeroPadding2D (None, 30, 26, 128)  0           p_re_lu_6[0][0]                  \n",
      "__________________________________________________________________________________________________\n",
      "depthwise_conv2d_3 (DepthwiseCo (None, 28, 24, 128)  1152        zero_padding2d_4[0][0]           \n",
      "__________________________________________________________________________________________________\n",
      "batch_normalization_9 (BatchNor (None, 28, 24, 128)  512         depthwise_conv2d_3[0][0]         \n",
      "__________________________________________________________________________________________________\n",
      "p_re_lu_7 (PReLU)               (None, 28, 24, 128)  128         batch_normalization_9[0][0]      \n",
      "__________________________________________________________________________________________________\n",
      "conv2d_6 (Conv2D)               (None, 28, 24, 64)   8192        p_re_lu_7[0][0]                  \n",
      "__________________________________________________________________________________________________\n",
      "batch_normalization_10 (BatchNo (None, 28, 24, 64)   256         conv2d_6[0][0]                   \n",
      "__________________________________________________________________________________________________\n",
      "add_1 (Add)                     (None, 28, 24, 64)   0           batch_normalization_10[0][0]     \n",
      "                                                                 add[0][0]                        \n",
      "__________________________________________________________________________________________________\n",
      "conv2d_7 (Conv2D)               (None, 28, 24, 128)  8192        add_1[0][0]                      \n",
      "__________________________________________________________________________________________________\n",
      "batch_normalization_11 (BatchNo (None, 28, 24, 128)  512         conv2d_7[0][0]                   \n",
      "__________________________________________________________________________________________________\n",
      "p_re_lu_8 (PReLU)               (None, 28, 24, 128)  128         batch_normalization_11[0][0]     \n",
      "__________________________________________________________________________________________________\n",
      "zero_padding2d_5 (ZeroPadding2D (None, 30, 26, 128)  0           p_re_lu_8[0][0]                  \n",
      "__________________________________________________________________________________________________\n",
      "depthwise_conv2d_4 (DepthwiseCo (None, 28, 24, 128)  1152        zero_padding2d_5[0][0]           \n",
      "__________________________________________________________________________________________________\n",
      "batch_normalization_12 (BatchNo (None, 28, 24, 128)  512         depthwise_conv2d_4[0][0]         \n",
      "__________________________________________________________________________________________________\n",
      "p_re_lu_9 (PReLU)               (None, 28, 24, 128)  128         batch_normalization_12[0][0]     \n",
      "__________________________________________________________________________________________________\n",
      "conv2d_8 (Conv2D)               (None, 28, 24, 64)   8192        p_re_lu_9[0][0]                  \n",
      "__________________________________________________________________________________________________\n",
      "batch_normalization_13 (BatchNo (None, 28, 24, 64)   256         conv2d_8[0][0]                   \n",
      "__________________________________________________________________________________________________\n",
      "add_2 (Add)                     (None, 28, 24, 64)   0           batch_normalization_13[0][0]     \n",
      "                                                                 add_1[0][0]                      \n",
      "__________________________________________________________________________________________________\n",
      "conv2d_9 (Conv2D)               (None, 28, 24, 128)  8192        add_2[0][0]                      \n",
      "__________________________________________________________________________________________________\n",
      "batch_normalization_14 (BatchNo (None, 28, 24, 128)  512         conv2d_9[0][0]                   \n",
      "__________________________________________________________________________________________________\n",
      "p_re_lu_10 (PReLU)              (None, 28, 24, 128)  128         batch_normalization_14[0][0]     \n",
      "__________________________________________________________________________________________________\n",
      "zero_padding2d_6 (ZeroPadding2D (None, 30, 26, 128)  0           p_re_lu_10[0][0]                 \n",
      "__________________________________________________________________________________________________\n",
      "depthwise_conv2d_5 (DepthwiseCo (None, 28, 24, 128)  1152        zero_padding2d_6[0][0]           \n",
      "__________________________________________________________________________________________________\n",
      "batch_normalization_15 (BatchNo (None, 28, 24, 128)  512         depthwise_conv2d_5[0][0]         \n",
      "__________________________________________________________________________________________________\n",
      "p_re_lu_11 (PReLU)              (None, 28, 24, 128)  128         batch_normalization_15[0][0]     \n",
      "__________________________________________________________________________________________________\n",
      "conv2d_10 (Conv2D)              (None, 28, 24, 64)   8192        p_re_lu_11[0][0]                 \n",
      "__________________________________________________________________________________________________\n",
      "batch_normalization_16 (BatchNo (None, 28, 24, 64)   256         conv2d_10[0][0]                  \n",
      "__________________________________________________________________________________________________\n",
      "add_3 (Add)                     (None, 28, 24, 64)   0           batch_normalization_16[0][0]     \n",
      "                                                                 add_2[0][0]                      \n",
      "__________________________________________________________________________________________________\n",
      "conv2d_11 (Conv2D)              (None, 28, 24, 256)  16384       add_3[0][0]                      \n",
      "__________________________________________________________________________________________________\n",
      "batch_normalization_17 (BatchNo (None, 28, 24, 256)  1024        conv2d_11[0][0]                  \n",
      "__________________________________________________________________________________________________\n",
      "p_re_lu_12 (PReLU)              (None, 28, 24, 256)  256         batch_normalization_17[0][0]     \n",
      "__________________________________________________________________________________________________\n",
      "zero_padding2d_7 (ZeroPadding2D (None, 30, 26, 256)  0           p_re_lu_12[0][0]                 \n",
      "__________________________________________________________________________________________________\n",
      "depthwise_conv2d_6 (DepthwiseCo (None, 14, 12, 256)  2304        zero_padding2d_7[0][0]           \n",
      "__________________________________________________________________________________________________\n",
      "batch_normalization_18 (BatchNo (None, 14, 12, 256)  1024        depthwise_conv2d_6[0][0]         \n",
      "__________________________________________________________________________________________________\n",
      "p_re_lu_13 (PReLU)              (None, 14, 12, 256)  256         batch_normalization_18[0][0]     \n",
      "__________________________________________________________________________________________________\n",
      "conv2d_12 (Conv2D)              (None, 14, 12, 128)  32768       p_re_lu_13[0][0]                 \n",
      "__________________________________________________________________________________________________\n",
      "batch_normalization_19 (BatchNo (None, 14, 12, 128)  512         conv2d_12[0][0]                  \n",
      "__________________________________________________________________________________________________\n",
      "conv2d_13 (Conv2D)              (None, 14, 12, 256)  32768       batch_normalization_19[0][0]     \n",
      "__________________________________________________________________________________________________\n",
      "batch_normalization_20 (BatchNo (None, 14, 12, 256)  1024        conv2d_13[0][0]                  \n",
      "__________________________________________________________________________________________________\n",
      "p_re_lu_14 (PReLU)              (None, 14, 12, 256)  256         batch_normalization_20[0][0]     \n",
      "__________________________________________________________________________________________________\n",
      "zero_padding2d_8 (ZeroPadding2D (None, 16, 14, 256)  0           p_re_lu_14[0][0]                 \n",
      "__________________________________________________________________________________________________\n",
      "depthwise_conv2d_7 (DepthwiseCo (None, 14, 12, 256)  2304        zero_padding2d_8[0][0]           \n",
      "__________________________________________________________________________________________________\n",
      "batch_normalization_21 (BatchNo (None, 14, 12, 256)  1024        depthwise_conv2d_7[0][0]         \n",
      "__________________________________________________________________________________________________\n",
      "p_re_lu_15 (PReLU)              (None, 14, 12, 256)  256         batch_normalization_21[0][0]     \n",
      "__________________________________________________________________________________________________\n",
      "conv2d_14 (Conv2D)              (None, 14, 12, 128)  32768       p_re_lu_15[0][0]                 \n",
      "__________________________________________________________________________________________________\n",
      "batch_normalization_22 (BatchNo (None, 14, 12, 128)  512         conv2d_14[0][0]                  \n",
      "__________________________________________________________________________________________________\n",
      "add_4 (Add)                     (None, 14, 12, 128)  0           batch_normalization_22[0][0]     \n",
      "                                                                 batch_normalization_19[0][0]     \n",
      "__________________________________________________________________________________________________\n",
      "conv2d_15 (Conv2D)              (None, 14, 12, 256)  32768       add_4[0][0]                      \n",
      "__________________________________________________________________________________________________\n",
      "batch_normalization_23 (BatchNo (None, 14, 12, 256)  1024        conv2d_15[0][0]                  \n",
      "__________________________________________________________________________________________________\n",
      "p_re_lu_16 (PReLU)              (None, 14, 12, 256)  256         batch_normalization_23[0][0]     \n",
      "__________________________________________________________________________________________________\n",
      "zero_padding2d_9 (ZeroPadding2D (None, 16, 14, 256)  0           p_re_lu_16[0][0]                 \n",
      "__________________________________________________________________________________________________\n",
      "depthwise_conv2d_8 (DepthwiseCo (None, 14, 12, 256)  2304        zero_padding2d_9[0][0]           \n",
      "__________________________________________________________________________________________________\n",
      "batch_normalization_24 (BatchNo (None, 14, 12, 256)  1024        depthwise_conv2d_8[0][0]         \n",
      "__________________________________________________________________________________________________\n",
      "p_re_lu_17 (PReLU)              (None, 14, 12, 256)  256         batch_normalization_24[0][0]     \n",
      "__________________________________________________________________________________________________\n",
      "conv2d_16 (Conv2D)              (None, 14, 12, 128)  32768       p_re_lu_17[0][0]                 \n",
      "__________________________________________________________________________________________________\n",
      "batch_normalization_25 (BatchNo (None, 14, 12, 128)  512         conv2d_16[0][0]                  \n",
      "__________________________________________________________________________________________________\n",
      "add_5 (Add)                     (None, 14, 12, 128)  0           batch_normalization_25[0][0]     \n",
      "                                                                 add_4[0][0]                      \n",
      "__________________________________________________________________________________________________\n",
      "conv2d_17 (Conv2D)              (None, 14, 12, 256)  32768       add_5[0][0]                      \n",
      "__________________________________________________________________________________________________\n",
      "batch_normalization_26 (BatchNo (None, 14, 12, 256)  1024        conv2d_17[0][0]                  \n",
      "__________________________________________________________________________________________________\n",
      "p_re_lu_18 (PReLU)              (None, 14, 12, 256)  256         batch_normalization_26[0][0]     \n",
      "__________________________________________________________________________________________________\n",
      "zero_padding2d_10 (ZeroPadding2 (None, 16, 14, 256)  0           p_re_lu_18[0][0]                 \n",
      "__________________________________________________________________________________________________\n",
      "depthwise_conv2d_9 (DepthwiseCo (None, 14, 12, 256)  2304        zero_padding2d_10[0][0]          \n",
      "__________________________________________________________________________________________________\n",
      "batch_normalization_27 (BatchNo (None, 14, 12, 256)  1024        depthwise_conv2d_9[0][0]         \n",
      "__________________________________________________________________________________________________\n",
      "p_re_lu_19 (PReLU)              (None, 14, 12, 256)  256         batch_normalization_27[0][0]     \n",
      "__________________________________________________________________________________________________\n",
      "conv2d_18 (Conv2D)              (None, 14, 12, 128)  32768       p_re_lu_19[0][0]                 \n",
      "__________________________________________________________________________________________________\n",
      "batch_normalization_28 (BatchNo (None, 14, 12, 128)  512         conv2d_18[0][0]                  \n",
      "__________________________________________________________________________________________________\n",
      "add_6 (Add)                     (None, 14, 12, 128)  0           batch_normalization_28[0][0]     \n",
      "                                                                 add_5[0][0]                      \n",
      "__________________________________________________________________________________________________\n",
      "conv2d_19 (Conv2D)              (None, 14, 12, 256)  32768       add_6[0][0]                      \n",
      "__________________________________________________________________________________________________\n",
      "batch_normalization_29 (BatchNo (None, 14, 12, 256)  1024        conv2d_19[0][0]                  \n",
      "__________________________________________________________________________________________________\n",
      "p_re_lu_20 (PReLU)              (None, 14, 12, 256)  256         batch_normalization_29[0][0]     \n",
      "__________________________________________________________________________________________________\n",
      "zero_padding2d_11 (ZeroPadding2 (None, 16, 14, 256)  0           p_re_lu_20[0][0]                 \n",
      "__________________________________________________________________________________________________\n",
      "depthwise_conv2d_10 (DepthwiseC (None, 14, 12, 256)  2304        zero_padding2d_11[0][0]          \n",
      "__________________________________________________________________________________________________\n",
      "batch_normalization_30 (BatchNo (None, 14, 12, 256)  1024        depthwise_conv2d_10[0][0]        \n",
      "__________________________________________________________________________________________________\n",
      "p_re_lu_21 (PReLU)              (None, 14, 12, 256)  256         batch_normalization_30[0][0]     \n",
      "__________________________________________________________________________________________________\n",
      "conv2d_20 (Conv2D)              (None, 14, 12, 128)  32768       p_re_lu_21[0][0]                 \n",
      "__________________________________________________________________________________________________\n",
      "batch_normalization_31 (BatchNo (None, 14, 12, 128)  512         conv2d_20[0][0]                  \n",
      "__________________________________________________________________________________________________\n",
      "add_7 (Add)                     (None, 14, 12, 128)  0           batch_normalization_31[0][0]     \n",
      "                                                                 add_6[0][0]                      \n",
      "__________________________________________________________________________________________________\n",
      "conv2d_21 (Conv2D)              (None, 14, 12, 256)  32768       add_7[0][0]                      \n",
      "__________________________________________________________________________________________________\n",
      "batch_normalization_32 (BatchNo (None, 14, 12, 256)  1024        conv2d_21[0][0]                  \n",
      "__________________________________________________________________________________________________\n",
      "p_re_lu_22 (PReLU)              (None, 14, 12, 256)  256         batch_normalization_32[0][0]     \n",
      "__________________________________________________________________________________________________\n",
      "zero_padding2d_12 (ZeroPadding2 (None, 16, 14, 256)  0           p_re_lu_22[0][0]                 \n",
      "__________________________________________________________________________________________________\n",
      "depthwise_conv2d_11 (DepthwiseC (None, 14, 12, 256)  2304        zero_padding2d_12[0][0]          \n",
      "__________________________________________________________________________________________________\n",
      "batch_normalization_33 (BatchNo (None, 14, 12, 256)  1024        depthwise_conv2d_11[0][0]        \n",
      "__________________________________________________________________________________________________\n",
      "p_re_lu_23 (PReLU)              (None, 14, 12, 256)  256         batch_normalization_33[0][0]     \n",
      "__________________________________________________________________________________________________\n",
      "conv2d_22 (Conv2D)              (None, 14, 12, 128)  32768       p_re_lu_23[0][0]                 \n",
      "__________________________________________________________________________________________________\n",
      "batch_normalization_34 (BatchNo (None, 14, 12, 128)  512         conv2d_22[0][0]                  \n",
      "__________________________________________________________________________________________________\n",
      "add_8 (Add)                     (None, 14, 12, 128)  0           batch_normalization_34[0][0]     \n",
      "                                                                 add_7[0][0]                      \n",
      "__________________________________________________________________________________________________\n",
      "conv2d_23 (Conv2D)              (None, 14, 12, 256)  32768       add_8[0][0]                      \n",
      "__________________________________________________________________________________________________\n",
      "batch_normalization_35 (BatchNo (None, 14, 12, 256)  1024        conv2d_23[0][0]                  \n",
      "__________________________________________________________________________________________________\n",
      "p_re_lu_24 (PReLU)              (None, 14, 12, 256)  256         batch_normalization_35[0][0]     \n",
      "__________________________________________________________________________________________________\n",
      "zero_padding2d_13 (ZeroPadding2 (None, 16, 14, 256)  0           p_re_lu_24[0][0]                 \n",
      "__________________________________________________________________________________________________\n",
      "depthwise_conv2d_12 (DepthwiseC (None, 14, 12, 256)  2304        zero_padding2d_13[0][0]          \n",
      "__________________________________________________________________________________________________\n",
      "batch_normalization_36 (BatchNo (None, 14, 12, 256)  1024        depthwise_conv2d_12[0][0]        \n",
      "__________________________________________________________________________________________________\n",
      "p_re_lu_25 (PReLU)              (None, 14, 12, 256)  256         batch_normalization_36[0][0]     \n",
      "__________________________________________________________________________________________________\n",
      "conv2d_24 (Conv2D)              (None, 14, 12, 128)  32768       p_re_lu_25[0][0]                 \n",
      "__________________________________________________________________________________________________\n",
      "batch_normalization_37 (BatchNo (None, 14, 12, 128)  512         conv2d_24[0][0]                  \n",
      "__________________________________________________________________________________________________\n",
      "add_9 (Add)                     (None, 14, 12, 128)  0           batch_normalization_37[0][0]     \n",
      "                                                                 add_8[0][0]                      \n",
      "__________________________________________________________________________________________________\n",
      "conv2d_25 (Conv2D)              (None, 14, 12, 512)  65536       add_9[0][0]                      \n",
      "__________________________________________________________________________________________________\n",
      "batch_normalization_38 (BatchNo (None, 14, 12, 512)  2048        conv2d_25[0][0]                  \n",
      "__________________________________________________________________________________________________\n",
      "p_re_lu_26 (PReLU)              (None, 14, 12, 512)  512         batch_normalization_38[0][0]     \n",
      "__________________________________________________________________________________________________\n",
      "zero_padding2d_14 (ZeroPadding2 (None, 16, 14, 512)  0           p_re_lu_26[0][0]                 \n",
      "__________________________________________________________________________________________________\n",
      "depthwise_conv2d_13 (DepthwiseC (None, 7, 6, 512)    4608        zero_padding2d_14[0][0]          \n",
      "__________________________________________________________________________________________________\n",
      "batch_normalization_39 (BatchNo (None, 7, 6, 512)    2048        depthwise_conv2d_13[0][0]        \n",
      "__________________________________________________________________________________________________\n",
      "p_re_lu_27 (PReLU)              (None, 7, 6, 512)    512         batch_normalization_39[0][0]     \n",
      "__________________________________________________________________________________________________\n",
      "conv2d_26 (Conv2D)              (None, 7, 6, 128)    65536       p_re_lu_27[0][0]                 \n",
      "__________________________________________________________________________________________________\n",
      "batch_normalization_40 (BatchNo (None, 7, 6, 128)    512         conv2d_26[0][0]                  \n",
      "__________________________________________________________________________________________________\n",
      "conv2d_27 (Conv2D)              (None, 7, 6, 256)    32768       batch_normalization_40[0][0]     \n",
      "__________________________________________________________________________________________________\n",
      "batch_normalization_41 (BatchNo (None, 7, 6, 256)    1024        conv2d_27[0][0]                  \n",
      "__________________________________________________________________________________________________\n",
      "p_re_lu_28 (PReLU)              (None, 7, 6, 256)    256         batch_normalization_41[0][0]     \n",
      "__________________________________________________________________________________________________\n",
      "zero_padding2d_15 (ZeroPadding2 (None, 9, 8, 256)    0           p_re_lu_28[0][0]                 \n",
      "__________________________________________________________________________________________________\n",
      "depthwise_conv2d_14 (DepthwiseC (None, 7, 6, 256)    2304        zero_padding2d_15[0][0]          \n",
      "__________________________________________________________________________________________________\n",
      "batch_normalization_42 (BatchNo (None, 7, 6, 256)    1024        depthwise_conv2d_14[0][0]        \n",
      "__________________________________________________________________________________________________\n",
      "p_re_lu_29 (PReLU)              (None, 7, 6, 256)    256         batch_normalization_42[0][0]     \n",
      "__________________________________________________________________________________________________\n",
      "conv2d_28 (Conv2D)              (None, 7, 6, 128)    32768       p_re_lu_29[0][0]                 \n",
      "__________________________________________________________________________________________________\n",
      "batch_normalization_43 (BatchNo (None, 7, 6, 128)    512         conv2d_28[0][0]                  \n",
      "__________________________________________________________________________________________________\n",
      "add_10 (Add)                    (None, 7, 6, 128)    0           batch_normalization_43[0][0]     \n",
      "                                                                 batch_normalization_40[0][0]     \n",
      "__________________________________________________________________________________________________\n",
      "conv2d_29 (Conv2D)              (None, 7, 6, 256)    32768       add_10[0][0]                     \n",
      "__________________________________________________________________________________________________\n",
      "batch_normalization_44 (BatchNo (None, 7, 6, 256)    1024        conv2d_29[0][0]                  \n",
      "__________________________________________________________________________________________________\n",
      "p_re_lu_30 (PReLU)              (None, 7, 6, 256)    256         batch_normalization_44[0][0]     \n",
      "__________________________________________________________________________________________________\n",
      "zero_padding2d_16 (ZeroPadding2 (None, 9, 8, 256)    0           p_re_lu_30[0][0]                 \n",
      "__________________________________________________________________________________________________\n",
      "depthwise_conv2d_15 (DepthwiseC (None, 7, 6, 256)    2304        zero_padding2d_16[0][0]          \n",
      "__________________________________________________________________________________________________\n",
      "batch_normalization_45 (BatchNo (None, 7, 6, 256)    1024        depthwise_conv2d_15[0][0]        \n",
      "__________________________________________________________________________________________________\n",
      "p_re_lu_31 (PReLU)              (None, 7, 6, 256)    256         batch_normalization_45[0][0]     \n",
      "__________________________________________________________________________________________________\n",
      "conv2d_30 (Conv2D)              (None, 7, 6, 128)    32768       p_re_lu_31[0][0]                 \n",
      "__________________________________________________________________________________________________\n",
      "batch_normalization_46 (BatchNo (None, 7, 6, 128)    512         conv2d_30[0][0]                  \n",
      "__________________________________________________________________________________________________\n",
      "add_11 (Add)                    (None, 7, 6, 128)    0           batch_normalization_46[0][0]     \n",
      "                                                                 add_10[0][0]                     \n",
      "__________________________________________________________________________________________________\n",
      "conv2d_31 (Conv2D)              (None, 7, 6, 512)    65536       add_11[0][0]                     \n",
      "__________________________________________________________________________________________________\n",
      "batch_normalization_47 (BatchNo (None, 7, 6, 512)    2048        conv2d_31[0][0]                  \n",
      "__________________________________________________________________________________________________\n",
      "p_re_lu_32 (PReLU)              (None, 7, 6, 512)    512         batch_normalization_47[0][0]     \n",
      "__________________________________________________________________________________________________\n",
      "depthwise_conv2d_16 (DepthwiseC (None, 1, 1, 512)    21504       p_re_lu_32[0][0]                 \n",
      "__________________________________________________________________________________________________\n",
      "batch_normalization_48 (BatchNo (None, 1, 1, 512)    2048        depthwise_conv2d_16[0][0]        \n",
      "__________________________________________________________________________________________________\n",
      "conv2d_32 (Conv2D)              (None, 1, 1, 128)    65536       batch_normalization_48[0][0]     \n",
      "__________________________________________________________________________________________________\n",
      "batch_normalization_49 (BatchNo (None, 1, 1, 128)    512         conv2d_32[0][0]                  \n",
      "__________________________________________________________________________________________________\n",
      "flatten (Flatten)               (None, 128)          0           batch_normalization_49[0][0]     \n",
      "__________________________________________________________________________________________________\n",
      "dense (Dense)                   (None, 2)            258         flatten[0][0]                    \n",
      "==================================================================================================\n",
      "Total params: 1,019,394\n",
      "Trainable params: 999,810\n",
      "Non-trainable params: 19,584\n",
      "__________________________________________________________________________________________________\n"
     ]
    }
   ],
   "source": [
    "model.summary()"
   ]
  },
  {
   "cell_type": "markdown",
   "metadata": {},
   "source": [
    "评估模型效果"
   ]
  },
  {
   "cell_type": "code",
   "execution_count": 14,
   "metadata": {
    "colab": {
     "base_uri": "https://localhost:8080/"
    },
    "id": "wSOXhJKf2vDI",
    "outputId": "b38cc36c-bdeb-4a1a-b152-3e712c3a0ba9"
   },
   "outputs": [
    {
     "name": "stdout",
     "output_type": "stream",
     "text": [
      "WARNING:tensorflow:From <ipython-input-14-c272fe6aea73>:1: Model.evaluate_generator (from tensorflow.python.keras.engine.training) is deprecated and will be removed in a future version.\n",
      "Instructions for updating:\n",
      "Please use Model.evaluate, which supports generators.\n",
      "1/1 [==============================] - 0s 2ms/step - loss: 1.4462 - tp: 7.0000 - fp: 5.0000 - tn: 7.0000 - fn: 5.0000 - accuracy: 0.5833 - precision: 0.5833 - recall: 0.5833 - auc: 0.7292\n"
     ]
    },
    {
     "data": {
      "text/plain": [
       "[1.4462498426437378,\n",
       " 7.0,\n",
       " 5.0,\n",
       " 7.0,\n",
       " 5.0,\n",
       " 0.5833333134651184,\n",
       " 0.5833333134651184,\n",
       " 0.5833333134651184,\n",
       " 0.7291666865348816]"
      ]
     },
     "execution_count": 14,
     "metadata": {},
     "output_type": "execute_result"
    }
   ],
   "source": [
    "model.evaluate_generator(test_generator, verbose=1)"
   ]
  },
  {
   "cell_type": "markdown",
   "metadata": {},
   "source": [
    "保存模型"
   ]
  },
  {
   "cell_type": "code",
   "execution_count": 15,
   "metadata": {
    "id": "Jprmhnt26BuU"
   },
   "outputs": [],
   "source": [
    "model.save('./angelman-normal-cnn.h5')"
   ]
  },
  {
   "cell_type": "code",
   "execution_count": 18,
   "metadata": {},
   "outputs": [],
   "source": [
    "best_model = load_model('./saved_models/top_layer_trained_weights.13-0.62.h5')"
   ]
  },
  {
   "cell_type": "code",
   "execution_count": 19,
   "metadata": {},
   "outputs": [
    {
     "name": "stdout",
     "output_type": "stream",
     "text": [
      "1/1 [==============================] - 0s 1ms/step - loss: 2.8321 - tp: 6.0000 - fp: 6.0000 - tn: 6.0000 - fn: 6.0000 - accuracy: 0.5000 - precision: 0.5000 - recall: 0.5000 - auc: 0.5000\n"
     ]
    },
    {
     "data": {
      "text/plain": [
       "[2.832077741622925, 6.0, 6.0, 6.0, 6.0, 0.5, 0.5, 0.5, 0.4999999701976776]"
      ]
     },
     "execution_count": 19,
     "metadata": {},
     "output_type": "execute_result"
    }
   ],
   "source": [
    "best_model.evaluate_generator(test_generator, verbose=1)"
   ]
  },
  {
   "cell_type": "code",
   "execution_count": null,
   "metadata": {},
   "outputs": [],
   "source": []
  }
 ],
 "metadata": {
  "accelerator": "GPU",
  "colab": {
   "name": "apert-normal-cnn3.ipynb",
   "provenance": []
  },
  "kernelspec": {
   "display_name": "Python 3",
   "language": "python",
   "name": "python3"
  },
  "language_info": {
   "codemirror_mode": {
    "name": "ipython",
    "version": 3
   },
   "file_extension": ".py",
   "mimetype": "text/x-python",
   "name": "python",
   "nbconvert_exporter": "python",
   "pygments_lexer": "ipython3",
   "version": "3.8.3"
  }
 },
 "nbformat": 4,
 "nbformat_minor": 4
}
